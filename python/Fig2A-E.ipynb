{
 "cells": [
  {
   "cell_type": "markdown",
   "id": "84dd7167-b9c0-4cd4-baaa-0dc56093c77d",
   "metadata": {},
   "source": [
    "### 1. Import packages"
   ]
  },
  {
   "cell_type": "code",
   "execution_count": 1,
   "id": "b5a34a06-660b-49c6-be9d-5ab787392493",
   "metadata": {},
   "outputs": [],
   "source": [
    "import pandas as pd\n",
    "import numpy as np\n",
    "\n",
    "import matplotlib\n",
    "import matplotlib.pyplot as plt\n",
    "%matplotlib inline\n",
    "import seaborn as sns\n",
    "import scipy as sp\n",
    "import sklearn as sk\n",
    "\n",
    "import sklearn.metrics as metrics\n",
    "import os\n",
    "import pickle\n",
    "import itertools  \n",
    "\n",
    "from matplotlib import rc\n",
    "from matplotlib import pyplot\n",
    "from matplotlib.pyplot import figure\n",
    "import matplotlib.patches as mpatches\n",
    "import matplotlib.pyplot as plt\n",
    "from matplotlib import rcParams\n",
    "\n",
    "from sklearn.metrics import recall_score\n",
    "from sklearn.metrics import precision_score\n",
    "from sklearn.metrics import f1_score\n",
    "from sklearn.metrics import roc_curve\n",
    "from sklearn.metrics import roc_auc_score\n",
    "from sklearn.metrics import precision_recall_curve\n",
    "from sklearn.metrics import auc\n",
    "from sklearn.metrics import average_precision_score\n",
    "from sklearn.metrics import balanced_accuracy_score\n",
    "\n",
    "from sklearn.model_selection import RandomizedSearchCV\n",
    "from sklearn.model_selection import train_test_split\n",
    "from sklearn.linear_model import LogisticRegression\n",
    "from sklearn.dummy import DummyClassifier\n",
    "from sklearn.ensemble import RandomForestClassifier\n",
    "from sklearn.ensemble import ExtraTreesClassifier\n",
    "from sklearn.ensemble import AdaBoostClassifier\n",
    "from sklearn.ensemble import GradientBoostingClassifier\n",
    "from sklearn.svm import SVC\n",
    "from sklearn.neighbors import KNeighborsClassifier\n",
    "from sklearn.tree import DecisionTreeClassifier"
   ]
  },
  {
   "cell_type": "code",
   "execution_count": 2,
   "id": "fed36993-fe1d-4117-ad2e-5d7dc26296d1",
   "metadata": {},
   "outputs": [],
   "source": [
    "import plotly.express as px\n",
    "from statsmodels.stats.multitest import multipletests\n",
    "import scipy.stats as stats\n",
    "#import statsmodels.api as sm\n",
    "from statsmodels.formula.api import ols\n",
    "import random"
   ]
  },
  {
   "cell_type": "code",
   "execution_count": 3,
   "id": "2b944622-01dc-44ad-b3dc-f242468ae053",
   "metadata": {},
   "outputs": [],
   "source": [
    "from sklearn.preprocessing import label_binarize\n",
    "from sklearn.multiclass import OneVsRestClassifier\n",
    "from sklearn.metrics import precision_recall_curve\n",
    "from sklearn.metrics import average_precision_score\n",
    "from sklearn.metrics import PrecisionRecallDisplay"
   ]
  },
  {
   "cell_type": "code",
   "execution_count": 4,
   "id": "e8a6e027-be2d-4e5c-af4b-c2cfa9c4ab5d",
   "metadata": {},
   "outputs": [],
   "source": [
    "from sklearn.inspection import permutation_importance\n",
    "from scipy.stats import spearmanr\n",
    "from scipy.cluster import hierarchy\n",
    "from scipy.spatial.distance import squareform\n",
    "from collections import defaultdict"
   ]
  },
  {
   "cell_type": "code",
   "execution_count": 5,
   "id": "6d0b9758-f08c-4d09-a234-29c270fc3e36",
   "metadata": {},
   "outputs": [],
   "source": [
    "from sklearn.metrics import matthews_corrcoef\n",
    "import shap"
   ]
  },
  {
   "cell_type": "code",
   "execution_count": 6,
   "id": "01007206-479b-42ec-be27-081e77f86136",
   "metadata": {},
   "outputs": [],
   "source": [
    "# Set the global font to be DejaVu Sans, size 10 \n",
    "rc('font',**{'family':'sans-serif','sans-serif':['DejaVu Sans'],'size':10})\n",
    "rc('mathtext',**{'default':'regular'})\n",
    "%matplotlib inline\n",
    "%config InlineBackend.figure_format = 'retina'"
   ]
  },
  {
   "cell_type": "markdown",
   "id": "fc308a76-aa37-41f5-8337-62525b5760ca",
   "metadata": {},
   "source": [
    "### 2. Load pickles"
   ]
  },
  {
   "cell_type": "code",
   "execution_count": 7,
   "id": "89793c39-ebdb-4775-8e0a-b4c3208832c3",
   "metadata": {},
   "outputs": [],
   "source": [
    "with open(r'/Users/momenzadeha/Documents/aneurysm_study/prec_bcorr.pkl', 'rb') as handle:\n",
    "    prec_bcorr = pickle.load(handle)\n",
    "with open(r'/Users/momenzadeha/Documents/aneurysm_study/prot_bcorr.pkl', 'rb') as handle:\n",
    "    prot_bcorr = pickle.load(handle)\n",
    "with open(r'/Users/momenzadeha/Documents/aneurysm_study/prec_2_gr.pkl', 'rb') as handle:\n",
    "    prec_2_gr = pickle.load(handle)\n",
    "with open(r'/Users/momenzadeha/Documents/aneurysm_study/meta_prot.pkl', 'rb') as handle:\n",
    "    meta_prot = pickle.load(handle)"
   ]
  },
  {
   "cell_type": "markdown",
   "id": "e57b72c2-2e6d-48cd-920f-9067b86cb26f",
   "metadata": {
    "tags": []
   },
   "source": [
    "### 3. T test on precursor train 80%"
   ]
  },
  {
   "cell_type": "code",
   "execution_count": null,
   "id": "809929d2-c315-44f9-8512-9f99ce819bd9",
   "metadata": {},
   "outputs": [],
   "source": [
    "# disease groups 0,1,4 => 0\n",
    "# control group 2,3 => 1"
   ]
  },
  {
   "cell_type": "code",
   "execution_count": 10,
   "id": "bf85d30c-b111-4fd4-a824-31fab3c3cfca",
   "metadata": {},
   "outputs": [],
   "source": [
    "Xtrain_prec, Xtest_prec, ytrain_prec, ytest_prec = train_test_split(prec_bcorr, prec_2_gr.Group, \n",
    "                                                    random_state=42, test_size=0.2,\n",
    "                                                    stratify=prec_2_gr.Group) "
   ]
  },
  {
   "cell_type": "code",
   "execution_count": 11,
   "id": "205ccbed-f85d-478e-a82c-81a9c3351b1d",
   "metadata": {},
   "outputs": [],
   "source": [
    "Xtrain_prec_g=Xtrain_prec.merge(prec_2_gr.Group, left_index=True, right_index=True)"
   ]
  },
  {
   "cell_type": "code",
   "execution_count": 12,
   "id": "3105ab93-accc-4429-85b2-5a30fd8114ff",
   "metadata": {},
   "outputs": [
    {
     "data": {
      "text/plain": [
       "(161, 1469)"
      ]
     },
     "execution_count": 12,
     "metadata": {},
     "output_type": "execute_result"
    }
   ],
   "source": [
    "Xtrain_prec_g.shape"
   ]
  },
  {
   "cell_type": "code",
   "execution_count": 13,
   "id": "19111e56-53ff-48eb-a8ff-121b7a463822",
   "metadata": {},
   "outputs": [
    {
     "data": {
      "text/plain": [
       "(236348, 3)"
      ]
     },
     "execution_count": 13,
     "metadata": {},
     "output_type": "execute_result"
    }
   ],
   "source": [
    "Xtrain_prec_g_melt = pd.melt(Xtrain_prec_g, id_vars=['Group'], value_vars=Xtrain_prec.columns.tolist())\n",
    "Xtrain_prec_g_melt.shape"
   ]
  },
  {
   "cell_type": "code",
   "execution_count": 14,
   "id": "7eeb65c1-9ebf-4f84-8f85-3644be2caa18",
   "metadata": {},
   "outputs": [],
   "source": [
    "Xtrain_prec_g_melt=Xtrain_prec_g_melt.rename(columns={\"variable\": \"Precursors\"})"
   ]
  },
  {
   "cell_type": "code",
   "execution_count": 15,
   "id": "331e3e54-2490-44df-b739-d44a32d95bc9",
   "metadata": {},
   "outputs": [],
   "source": [
    "Xtrain_prec_g_melt['Group'] = Xtrain_prec_g_melt['Group'].astype('int')"
   ]
  },
  {
   "cell_type": "code",
   "execution_count": 16,
   "id": "2064c454-41fa-415f-a7f4-2dd3d657444d",
   "metadata": {
    "tags": []
   },
   "outputs": [
    {
     "name": "stdout",
     "output_type": "stream",
     "text": [
      "100\n",
      "200\n",
      "300\n",
      "400\n",
      "500\n",
      "600\n",
      "700\n",
      "800\n",
      "900\n",
      "1000\n",
      "1100\n",
      "1200\n",
      "1300\n",
      "1400\n"
     ]
    }
   ],
   "source": [
    "pvalues=[]\n",
    "i=0\n",
    "for x in Xtrain_prec_g_melt['Precursors'].unique():\n",
    "    tempdf = Xtrain_prec_g_melt[Xtrain_prec_g_melt.isin([x]).any(axis=1)]\n",
    "    coh0=[]\n",
    "    coh1=[]\n",
    "    coh0.append(tempdf[(tempdf.Group==0)]['value'].tolist())\n",
    "    coh1.append(tempdf[(tempdf.Group==1)]['value'].tolist())\n",
    "    #print('cohort  0:', coh0)\n",
    "    #print('++++++++')\n",
    "    ab = itertools.chain(coh0, coh1)\n",
    "    data=list(ab)\n",
    "    t_val, p_val = stats.ttest_ind(*data)\n",
    "    pvalues.append(p_val)\n",
    "    #print('p_value:', p_val)\n",
    "    #print('++++++++')\n",
    "    i+=1\n",
    "    if i % 100==0: \n",
    "        print(i)"
   ]
  },
  {
   "cell_type": "markdown",
   "id": "5293e5c9-0ed6-44e5-a0be-a7eef9eed850",
   "metadata": {
    "tags": []
   },
   "source": [
    "#### Benjamini and Hochberg FDR"
   ]
  },
  {
   "cell_type": "code",
   "execution_count": 1,
   "id": "48bee3f4-4a55-442d-8758-3752424d6f9a",
   "metadata": {},
   "outputs": [
    {
     "ename": "NameError",
     "evalue": "name 'multipletests' is not defined",
     "output_type": "error",
     "traceback": [
      "\u001b[1;31m---------------------------------------------------------------------------\u001b[0m",
      "\u001b[1;31mNameError\u001b[0m                                 Traceback (most recent call last)",
      "\u001b[1;32m~\\AppData\\Local\\Temp\\ipykernel_53192\\3758460154.py\u001b[0m in \u001b[0;36m<module>\u001b[1;34m\u001b[0m\n\u001b[1;32m----> 1\u001b[1;33m \u001b[0my\u001b[0m\u001b[1;33m=\u001b[0m\u001b[0mmultipletests\u001b[0m\u001b[1;33m(\u001b[0m\u001b[0mpvals\u001b[0m\u001b[1;33m=\u001b[0m\u001b[0mpvalues\u001b[0m\u001b[1;33m,\u001b[0m \u001b[0mmethod\u001b[0m\u001b[1;33m=\u001b[0m\u001b[1;34m\"fdr_bh\"\u001b[0m\u001b[1;33m,\u001b[0m\u001b[0mreturnsorted\u001b[0m\u001b[1;33m=\u001b[0m\u001b[1;32mTrue\u001b[0m\u001b[1;33m)\u001b[0m\u001b[1;33m\u001b[0m\u001b[1;33m\u001b[0m\u001b[0m\n\u001b[0m",
      "\u001b[1;31mNameError\u001b[0m: name 'multipletests' is not defined"
     ]
    }
   ],
   "source": [
    "y=multipletests(pvals=pvalues, method=\"fdr_bh\",returnsorted=True)"
   ]
  },
  {
   "cell_type": "code",
   "execution_count": 147,
   "id": "d0901083-de2a-408d-bfec-793e1a88f96f",
   "metadata": {},
   "outputs": [
    {
     "data": {
      "text/plain": [
       "(array([ True,  True,  True, ..., False, False, False]),\n",
       " array([5.24464104e-20, 5.24464104e-20, 5.88306304e-20, ...,\n",
       "        9.90334075e-01, 9.96761580e-01, 9.96761580e-01]),\n",
       " 6.8462543936220754e-06,\n",
       " 6.8119891008174385e-06)"
      ]
     },
     "execution_count": 147,
     "metadata": {},
     "output_type": "execute_result"
    }
   ],
   "source": [
    "y"
   ]
  },
  {
   "cell_type": "code",
   "execution_count": 148,
   "id": "06987ca3-5cb6-4783-84dc-70b5f8a0bcfb",
   "metadata": {},
   "outputs": [],
   "source": [
    "df1 = pd.DataFrame(y[1], columns = ['BH'])"
   ]
  },
  {
   "cell_type": "code",
   "execution_count": 149,
   "id": "e3f9522b-9a26-4ddc-b692-d0bd7df1fe7c",
   "metadata": {},
   "outputs": [],
   "source": [
    "pvalues.sort()"
   ]
  },
  {
   "cell_type": "code",
   "execution_count": 150,
   "id": "c177761b-3286-435f-ad65-6c2629ac448c",
   "metadata": {},
   "outputs": [],
   "source": [
    "df2 = pd.DataFrame(pvalues,columns = ['unadj_pval'])"
   ]
  },
  {
   "cell_type": "code",
   "execution_count": 151,
   "id": "ceb4e363-18a2-459d-9b19-a8792f300cf5",
   "metadata": {},
   "outputs": [],
   "source": [
    "BH_unadj=pd.concat([df1, df2], axis=1)"
   ]
  },
  {
   "cell_type": "code",
   "execution_count": 152,
   "id": "0b694035-429b-4867-b706-a192727ef1c5",
   "metadata": {},
   "outputs": [
    {
     "data": {
      "text/html": [
       "<div>\n",
       "<style scoped>\n",
       "    .dataframe tbody tr th:only-of-type {\n",
       "        vertical-align: middle;\n",
       "    }\n",
       "\n",
       "    .dataframe tbody tr th {\n",
       "        vertical-align: top;\n",
       "    }\n",
       "\n",
       "    .dataframe thead th {\n",
       "        text-align: right;\n",
       "    }\n",
       "</style>\n",
       "<table border=\"1\" class=\"dataframe\">\n",
       "  <thead>\n",
       "    <tr style=\"text-align: right;\">\n",
       "      <th></th>\n",
       "      <th>BH</th>\n",
       "      <th>unadj_pval</th>\n",
       "    </tr>\n",
       "  </thead>\n",
       "  <tbody>\n",
       "    <tr>\n",
       "      <th>0</th>\n",
       "      <td>5.244641e-20</td>\n",
       "      <td>3.782661e-23</td>\n",
       "    </tr>\n",
       "    <tr>\n",
       "      <th>1</th>\n",
       "      <td>5.244641e-20</td>\n",
       "      <td>7.145288e-23</td>\n",
       "    </tr>\n",
       "    <tr>\n",
       "      <th>2</th>\n",
       "      <td>5.883063e-20</td>\n",
       "      <td>1.455901e-22</td>\n",
       "    </tr>\n",
       "    <tr>\n",
       "      <th>3</th>\n",
       "      <td>5.883063e-20</td>\n",
       "      <td>1.603014e-22</td>\n",
       "    </tr>\n",
       "    <tr>\n",
       "      <th>4</th>\n",
       "      <td>8.845678e-20</td>\n",
       "      <td>4.023140e-22</td>\n",
       "    </tr>\n",
       "    <tr>\n",
       "      <th>...</th>\n",
       "      <td>...</td>\n",
       "      <td>...</td>\n",
       "    </tr>\n",
       "    <tr>\n",
       "      <th>1463</th>\n",
       "      <td>9.874522e-01</td>\n",
       "      <td>9.847616e-01</td>\n",
       "    </tr>\n",
       "    <tr>\n",
       "      <th>1464</th>\n",
       "      <td>9.902105e-01</td>\n",
       "      <td>9.881869e-01</td>\n",
       "    </tr>\n",
       "    <tr>\n",
       "      <th>1465</th>\n",
       "      <td>9.903341e-01</td>\n",
       "      <td>9.889848e-01</td>\n",
       "    </tr>\n",
       "    <tr>\n",
       "      <th>1466</th>\n",
       "      <td>9.967616e-01</td>\n",
       "      <td>9.964062e-01</td>\n",
       "    </tr>\n",
       "    <tr>\n",
       "      <th>1467</th>\n",
       "      <td>9.967616e-01</td>\n",
       "      <td>9.967616e-01</td>\n",
       "    </tr>\n",
       "  </tbody>\n",
       "</table>\n",
       "<p>1468 rows × 2 columns</p>\n",
       "</div>"
      ],
      "text/plain": [
       "                BH    unadj_pval\n",
       "0     5.244641e-20  3.782661e-23\n",
       "1     5.244641e-20  7.145288e-23\n",
       "2     5.883063e-20  1.455901e-22\n",
       "3     5.883063e-20  1.603014e-22\n",
       "4     8.845678e-20  4.023140e-22\n",
       "...            ...           ...\n",
       "1463  9.874522e-01  9.847616e-01\n",
       "1464  9.902105e-01  9.881869e-01\n",
       "1465  9.903341e-01  9.889848e-01\n",
       "1466  9.967616e-01  9.964062e-01\n",
       "1467  9.967616e-01  9.967616e-01\n",
       "\n",
       "[1468 rows x 2 columns]"
      ]
     },
     "execution_count": 152,
     "metadata": {},
     "output_type": "execute_result"
    }
   ],
   "source": [
    "BH_unadj"
   ]
  },
  {
   "cell_type": "code",
   "execution_count": 154,
   "id": "62e4db55-1f6c-418e-af46-a0d0890b63ae",
   "metadata": {},
   "outputs": [
    {
     "name": "stdout",
     "output_type": "stream",
     "text": [
      "792\n"
     ]
    }
   ],
   "source": [
    "#find how many pvalues are < 0.01\n",
    "print(len(y[1][np.where(y[1]<0.01)])) "
   ]
  },
  {
   "cell_type": "code",
   "execution_count": 47,
   "id": "28f8af00-d42c-4742-b022-899263fe4b97",
   "metadata": {
    "tags": []
   },
   "outputs": [],
   "source": [
    "T=np.where(y[1] <0.01)"
   ]
  },
  {
   "cell_type": "code",
   "execution_count": 48,
   "id": "7ad3e978-85a4-4bd6-bea7-116b54c974d3",
   "metadata": {
    "tags": []
   },
   "outputs": [
    {
     "data": {
      "text/plain": [
       "(792,)"
      ]
     },
     "execution_count": 48,
     "metadata": {},
     "output_type": "execute_result"
    }
   ],
   "source": [
    "Xtrain_prec_g_melt['Precursors'].unique()[T].shape"
   ]
  },
  {
   "cell_type": "code",
   "execution_count": 52,
   "id": "54bbbff3-bc62-45ca-b729-de04f0b0a803",
   "metadata": {},
   "outputs": [],
   "source": [
    "sig_prec_bcorr=prec_bcorr[Xtrain_prec_g_melt['Precursors'].unique()[T]]"
   ]
  },
  {
   "cell_type": "code",
   "execution_count": 53,
   "id": "99f184e7-4985-4a8b-8e3c-cf0fb7286555",
   "metadata": {},
   "outputs": [
    {
     "data": {
      "text/plain": [
       "(202, 792)"
      ]
     },
     "execution_count": 53,
     "metadata": {},
     "output_type": "execute_result"
    }
   ],
   "source": [
    "sig_prec_bcorr.shape"
   ]
  },
  {
   "cell_type": "markdown",
   "id": "1708669a-9665-4af0-9bad-7defe9e6676f",
   "metadata": {},
   "source": [
    "### 4. T test on protein train 80%"
   ]
  },
  {
   "cell_type": "code",
   "execution_count": 58,
   "id": "fa896f0b-b973-44d7-8730-85366f899f24",
   "metadata": {},
   "outputs": [],
   "source": [
    "Xtrain_prot, Xtest_prot, ytrain_prot, ytest_prot = train_test_split(prot_bcorr, prec_2_gr.Group, \n",
    "                                                    random_state=42, test_size=0.2,\n",
    "                                                    stratify=prec_2_gr.Group) "
   ]
  },
  {
   "cell_type": "code",
   "execution_count": 59,
   "id": "d068663c-1da0-4cbc-b330-585a9af28166",
   "metadata": {},
   "outputs": [],
   "source": [
    "Xtrain_prot_g=Xtrain_prot.merge(prec_2_gr.Group, left_index=True, right_index=True)"
   ]
  },
  {
   "cell_type": "code",
   "execution_count": 60,
   "id": "865d0b10-65ea-4afd-8632-96fa88490fc0",
   "metadata": {},
   "outputs": [
    {
     "data": {
      "text/plain": [
       "(161, 196)"
      ]
     },
     "execution_count": 60,
     "metadata": {},
     "output_type": "execute_result"
    }
   ],
   "source": [
    "Xtrain_prot_g.shape"
   ]
  },
  {
   "cell_type": "code",
   "execution_count": 61,
   "id": "8c8c01fb-f164-4404-a3dc-8bd5c274c76b",
   "metadata": {},
   "outputs": [
    {
     "data": {
      "text/plain": [
       "(31395, 3)"
      ]
     },
     "execution_count": 61,
     "metadata": {},
     "output_type": "execute_result"
    }
   ],
   "source": [
    "Xtrain_prot_g_melt = pd.melt(Xtrain_prot_g, id_vars=['Group'], value_vars=Xtrain_prot.columns.tolist())\n",
    "Xtrain_prot_g_melt.shape"
   ]
  },
  {
   "cell_type": "code",
   "execution_count": 62,
   "id": "74e8ea8f-f175-4422-bebb-62767c718f67",
   "metadata": {},
   "outputs": [],
   "source": [
    "Xtrain_prot_g_melt=Xtrain_prot_g_melt.rename(columns={\"variable\": \"Proteins\"})"
   ]
  },
  {
   "cell_type": "code",
   "execution_count": 63,
   "id": "276c7620-6845-4cb9-84ea-36e3c7bb6e1b",
   "metadata": {},
   "outputs": [],
   "source": [
    "Xtrain_prot_g_melt['Group'] = Xtrain_prot_g_melt['Group'].astype('int')"
   ]
  },
  {
   "cell_type": "code",
   "execution_count": 64,
   "id": "30d02477-a02b-4a64-9283-1dfa42636d88",
   "metadata": {
    "tags": []
   },
   "outputs": [
    {
     "name": "stdout",
     "output_type": "stream",
     "text": [
      "100\n"
     ]
    }
   ],
   "source": [
    "pvalues=[]\n",
    "i=0\n",
    "for x in Xtrain_prot_g_melt['Proteins'].unique():\n",
    "    tempdf = Xtrain_prot_g_melt[Xtrain_prot_g_melt.isin([x]).any(axis=1)]\n",
    "    coh0=[]\n",
    "    coh1=[]\n",
    "    coh0.append(tempdf[(tempdf.Group==0)]['value'].tolist())\n",
    "    coh1.append(tempdf[(tempdf.Group==1)]['value'].tolist())\n",
    "    #print('cohort  0:', coh0)\n",
    "    #print('++++++++')\n",
    "    ab = itertools.chain(coh0, coh1)\n",
    "    data=list(ab)\n",
    "    t_val, p_val = stats.ttest_ind(*data)\n",
    "    pvalues.append(p_val)\n",
    "    #print('p_value:', p_val)\n",
    "    #print('++++++++')\n",
    "    i+=1\n",
    "    if i % 100==0: \n",
    "        print(i)"
   ]
  },
  {
   "cell_type": "markdown",
   "id": "3cfb3a94-076b-45a0-8dbd-b4bc9e2cb8ff",
   "metadata": {
    "tags": []
   },
   "source": [
    "#### Benjamini and Hochberg FDR"
   ]
  },
  {
   "cell_type": "code",
   "execution_count": 65,
   "id": "336172ea-6e16-4982-bbf3-0f044f80526e",
   "metadata": {},
   "outputs": [],
   "source": [
    "y=multipletests(pvals=pvalues, method=\"fdr_bh\")"
   ]
  },
  {
   "cell_type": "code",
   "execution_count": 66,
   "id": "0f51eb7e-0b44-4034-a73b-b5057b9c0833",
   "metadata": {},
   "outputs": [
    {
     "data": {
      "text/plain": [
       "195"
      ]
     },
     "execution_count": 66,
     "metadata": {},
     "output_type": "execute_result"
    }
   ],
   "source": [
    "len(y[1])"
   ]
  },
  {
   "cell_type": "code",
   "execution_count": 67,
   "id": "85a27727-214e-47ad-8177-d00ecd45942b",
   "metadata": {
    "tags": []
   },
   "outputs": [
    {
     "name": "stdout",
     "output_type": "stream",
     "text": [
      "90\n"
     ]
    }
   ],
   "source": [
    "#find how many pvalues are < 0.01\n",
    "print(len(y[1][np.where(y[1]<0.01)])) "
   ]
  },
  {
   "cell_type": "code",
   "execution_count": 68,
   "id": "93c2c3cf-2da5-420d-aa44-0d792a42c2b1",
   "metadata": {
    "tags": []
   },
   "outputs": [],
   "source": [
    "T=np.where(y[1] <0.01)"
   ]
  },
  {
   "cell_type": "code",
   "execution_count": 69,
   "id": "9fe9ce40-909b-4ffa-9763-28a9895cf56e",
   "metadata": {
    "tags": []
   },
   "outputs": [
    {
     "data": {
      "text/plain": [
       "(90,)"
      ]
     },
     "execution_count": 69,
     "metadata": {},
     "output_type": "execute_result"
    }
   ],
   "source": [
    "Xtrain_prot_g_melt['Proteins'].unique()[T].shape"
   ]
  },
  {
   "cell_type": "code",
   "execution_count": 70,
   "id": "c3368161-8116-4fae-9d29-583d6eec0ef8",
   "metadata": {},
   "outputs": [],
   "source": [
    "sig_prot_bcorr=prot_bcorr[Xtrain_prot_g_melt['Proteins'].unique()[T]]"
   ]
  },
  {
   "cell_type": "code",
   "execution_count": 71,
   "id": "1e222f61-32e7-4074-b12c-5c88d690472a",
   "metadata": {},
   "outputs": [
    {
     "data": {
      "text/plain": [
       "(202, 90)"
      ]
     },
     "execution_count": 71,
     "metadata": {},
     "output_type": "execute_result"
    }
   ],
   "source": [
    "sig_prot_bcorr.shape"
   ]
  },
  {
   "cell_type": "markdown",
   "id": "39d02bc2-f96d-4ed1-a444-7c10e7b46a17",
   "metadata": {
    "tags": []
   },
   "source": [
    "### 5. Disease vs Control"
   ]
  },
  {
   "cell_type": "code",
   "execution_count": 72,
   "id": "667d989b-210f-4134-a83e-4ec7ed7e52b3",
   "metadata": {
    "collapsed": true,
    "jupyter": {
     "outputs_hidden": true
    },
    "tags": []
   },
   "outputs": [
    {
     "name": "stdout",
     "output_type": "stream",
     "text": [
      "Input: Sig Prec\n",
      "Dummy\n",
      "Best AUPR: 0.6273291925465838\n",
      "Best F1: 0.0\n",
      "Best estimator: DummyClassifier(random_state=42)\n",
      "GB\n"
     ]
    },
    {
     "name": "stderr",
     "output_type": "stream",
     "text": [
      "The total space of parameters 1 is smaller than n_iter=200. Running 1 iterations. For exhaustive searches, use GridSearchCV.\n"
     ]
    },
    {
     "name": "stdout",
     "output_type": "stream",
     "text": [
      "Best AUPR: 1.0\n",
      "Best F1: 0.9381372549019609\n",
      "Best estimator: GradientBoostingClassifier(learning_rate=1, max_depth=5, max_features='sqrt',\n",
      "                           min_samples_leaf=20, min_samples_split=80,\n",
      "                           random_state=42)\n",
      "SVC\n"
     ]
    },
    {
     "name": "stderr",
     "output_type": "stream",
     "text": [
      "The total space of parameters 48 is smaller than n_iter=200. Running 48 iterations. For exhaustive searches, use GridSearchCV.\n"
     ]
    },
    {
     "name": "stdout",
     "output_type": "stream",
     "text": [
      "Best AUPR: 1.0\n",
      "Best F1: 0.9499019607843138\n",
      "Best estimator: SVC(C=0.1, gamma=1, kernel='poly', probability=True, random_state=42)\n",
      "LR\n"
     ]
    },
    {
     "name": "stderr",
     "output_type": "stream",
     "text": [
      "The total space of parameters 15 is smaller than n_iter=200. Running 15 iterations. For exhaustive searches, use GridSearchCV.\n",
      "The line search algorithm did not converge\n",
      "The line search algorithm did not converge\n",
      "The line search algorithm did not converge\n",
      "The line search algorithm did not converge\n",
      "The line search algorithm did not converge\n",
      "The line search algorithm did not converge\n",
      "The line search algorithm did not converge\n",
      "The line search algorithm did not converge\n",
      "The line search algorithm did not converge\n",
      "The line search algorithm did not converge\n",
      "The line search algorithm did not converge\n",
      "The line search algorithm did not converge\n",
      "The line search algorithm did not converge\n",
      "The line search algorithm did not converge\n",
      "The line search algorithm did not converge\n",
      "The line search algorithm did not converge\n",
      "The line search algorithm did not converge\n",
      "The line search algorithm did not converge\n",
      "The line search algorithm did not converge\n",
      "The line search algorithm did not converge\n",
      "The line search algorithm did not converge\n",
      "The line search algorithm did not converge\n",
      "The line search algorithm did not converge\n",
      "The line search algorithm did not converge\n",
      "The line search algorithm did not converge\n",
      "The line search algorithm did not converge\n",
      "The line search algorithm did not converge\n",
      "The line search algorithm did not converge\n",
      "The line search algorithm did not converge\n",
      "The line search algorithm did not converge\n",
      "The line search algorithm did not converge\n",
      "The line search algorithm did not converge\n",
      "The line search algorithm did not converge\n",
      "The line search algorithm did not converge\n",
      "The line search algorithm did not converge\n",
      "The line search algorithm did not converge\n",
      "The line search algorithm did not converge\n",
      "The line search algorithm did not converge\n",
      "The line search algorithm did not converge\n",
      "The line search algorithm did not converge\n",
      "The line search algorithm did not converge\n",
      "The line search algorithm did not converge\n",
      "The line search algorithm did not converge\n",
      "The line search algorithm did not converge\n",
      "The line search algorithm did not converge\n",
      "The line search algorithm did not converge\n",
      "The line search algorithm did not converge\n",
      "The line search algorithm did not converge\n",
      "The line search algorithm did not converge\n",
      "The line search algorithm did not converge\n",
      "The line search algorithm did not converge\n",
      "The line search algorithm did not converge\n"
     ]
    },
    {
     "name": "stdout",
     "output_type": "stream",
     "text": [
      "Best AUPR: 1.0\n",
      "Best F1: 0.9393464052287582\n",
      "Best estimator: LogisticRegression(C=0.1, random_state=42, solver='newton-cg')\n",
      "ET\n",
      "Best AUPR: 1.0\n",
      "Best F1: 0.9232352941176473\n",
      "Best estimator: ExtraTreesClassifier(max_depth=5, max_features='sqrt', min_samples_leaf=2,\n",
      "                     min_samples_split=20, n_estimators=500, random_state=42)\n",
      "RF\n",
      "Best AUPR: 1.0\n",
      "Best F1: 0.9248039215686277\n",
      "Best estimator: RandomForestClassifier(bootstrap=False, max_depth=50, max_features='sqrt',\n",
      "                       min_samples_leaf=2, min_samples_split=20,\n",
      "                       random_state=42)\n",
      "KNN\n"
     ]
    },
    {
     "name": "stderr",
     "output_type": "stream",
     "text": [
      "The total space of parameters 154 is smaller than n_iter=200. Running 154 iterations. For exhaustive searches, use GridSearchCV.\n"
     ]
    },
    {
     "name": "stdout",
     "output_type": "stream",
     "text": [
      "Best AUPR: 0.9901552801605775\n",
      "Best F1: 0.9483333333333335\n",
      "Best estimator: KNeighborsClassifier(leaf_size=1, n_neighbors=30)\n",
      "Input: All Prec\n",
      "Dummy\n",
      "Best AUPR: 0.6273291925465838\n",
      "Best F1: 0.0\n",
      "Best estimator: DummyClassifier(random_state=42)\n",
      "GB\n"
     ]
    },
    {
     "name": "stderr",
     "output_type": "stream",
     "text": [
      "The total space of parameters 1 is smaller than n_iter=200. Running 1 iterations. For exhaustive searches, use GridSearchCV.\n"
     ]
    },
    {
     "name": "stdout",
     "output_type": "stream",
     "text": [
      "Best AUPR: 1.0\n",
      "Best F1: 0.9394444444444445\n",
      "Best estimator: GradientBoostingClassifier(learning_rate=1, max_depth=50, max_features='sqrt',\n",
      "                           min_samples_leaf=2, min_samples_split=80,\n",
      "                           random_state=42)\n",
      "SVC\n"
     ]
    },
    {
     "name": "stderr",
     "output_type": "stream",
     "text": [
      "The total space of parameters 48 is smaller than n_iter=200. Running 48 iterations. For exhaustive searches, use GridSearchCV.\n"
     ]
    },
    {
     "name": "stdout",
     "output_type": "stream",
     "text": [
      "Best AUPR: 1.0\n",
      "Best F1: 0.9393464052287582\n",
      "Best estimator: SVC(C=1, gamma=0.001, probability=True, random_state=42)\n",
      "LR\n"
     ]
    },
    {
     "name": "stderr",
     "output_type": "stream",
     "text": [
      "The total space of parameters 15 is smaller than n_iter=200. Running 15 iterations. For exhaustive searches, use GridSearchCV.\n",
      "The line search algorithm did not converge\n",
      "The line search algorithm did not converge\n",
      "The line search algorithm did not converge\n",
      "The line search algorithm did not converge\n",
      "The line search algorithm did not converge\n",
      "The line search algorithm did not converge\n",
      "The line search algorithm did not converge\n",
      "The line search algorithm did not converge\n",
      "The line search algorithm did not converge\n",
      "The line search algorithm did not converge\n",
      "The line search algorithm did not converge\n",
      "The line search algorithm did not converge\n",
      "The line search algorithm did not converge\n",
      "The line search algorithm did not converge\n",
      "The line search algorithm did not converge\n",
      "The line search algorithm did not converge\n",
      "The line search algorithm did not converge\n",
      "The line search algorithm did not converge\n",
      "The line search algorithm did not converge\n",
      "The line search algorithm did not converge\n",
      "The line search algorithm did not converge\n",
      "The line search algorithm did not converge\n",
      "The line search algorithm did not converge\n",
      "The line search algorithm did not converge\n",
      "The line search algorithm did not converge\n",
      "The line search algorithm did not converge\n",
      "The line search algorithm did not converge\n",
      "The line search algorithm did not converge\n",
      "The line search algorithm did not converge\n",
      "The line search algorithm did not converge\n",
      "The line search algorithm did not converge\n",
      "The line search algorithm did not converge\n",
      "The line search algorithm did not converge\n",
      "The line search algorithm did not converge\n",
      "The line search algorithm did not converge\n",
      "The line search algorithm did not converge\n",
      "The line search algorithm did not converge\n",
      "The line search algorithm did not converge\n",
      "The line search algorithm did not converge\n",
      "The line search algorithm did not converge\n",
      "The line search algorithm did not converge\n",
      "The line search algorithm did not converge\n",
      "The line search algorithm did not converge\n",
      "The line search algorithm did not converge\n",
      "The line search algorithm did not converge\n",
      "The line search algorithm did not converge\n",
      "The line search algorithm did not converge\n",
      "The line search algorithm did not converge\n",
      "The line search algorithm did not converge\n",
      "The line search algorithm did not converge\n",
      "The line search algorithm did not converge\n",
      "The line search algorithm did not converge\n",
      "The line search algorithm did not converge\n",
      "The line search algorithm did not converge\n",
      "The line search algorithm did not converge\n",
      "The line search algorithm did not converge\n",
      "The line search algorithm did not converge\n",
      "The line search algorithm did not converge\n",
      "The line search algorithm did not converge\n",
      "The line search algorithm did not converge\n",
      "The line search algorithm did not converge\n",
      "The line search algorithm did not converge\n",
      "The line search algorithm did not converge\n",
      "The line search algorithm did not converge\n",
      "The line search algorithm did not converge\n",
      "The line search algorithm did not converge\n",
      "The line search algorithm did not converge\n",
      "The line search algorithm did not converge\n",
      "The line search algorithm did not converge\n",
      "The line search algorithm did not converge\n",
      "The line search algorithm did not converge\n",
      "The line search algorithm did not converge\n",
      "The line search algorithm did not converge\n",
      "The line search algorithm did not converge\n",
      "The line search algorithm did not converge\n",
      "The line search algorithm did not converge\n",
      "The line search algorithm did not converge\n",
      "The line search algorithm did not converge\n",
      "The line search algorithm did not converge\n",
      "The line search algorithm did not converge\n",
      "The line search algorithm did not converge\n",
      "The line search algorithm did not converge\n",
      "The line search algorithm did not converge\n",
      "The line search algorithm did not converge\n",
      "The line search algorithm did not converge\n",
      "The line search algorithm did not converge\n",
      "The line search algorithm did not converge\n",
      "The line search algorithm did not converge\n",
      "The line search algorithm did not converge\n",
      "The line search algorithm did not converge\n",
      "The line search algorithm did not converge\n",
      "The line search algorithm did not converge\n",
      "The line search algorithm did not converge\n",
      "The line search algorithm did not converge\n",
      "The line search algorithm did not converge\n",
      "The line search algorithm did not converge\n",
      "The line search algorithm did not converge\n",
      "The line search algorithm did not converge\n",
      "The line search algorithm did not converge\n",
      "The line search algorithm did not converge\n",
      "The line search algorithm did not converge\n",
      "The line search algorithm did not converge\n",
      "The line search algorithm did not converge\n",
      "The line search algorithm did not converge\n",
      "The line search algorithm did not converge\n",
      "The line search algorithm did not converge\n",
      "The line search algorithm did not converge\n",
      "The line search algorithm did not converge\n",
      "The line search algorithm did not converge\n",
      "The line search algorithm did not converge\n",
      "The line search algorithm did not converge\n",
      "The line search algorithm did not converge\n",
      "The line search algorithm did not converge\n",
      "The line search algorithm did not converge\n",
      "The line search algorithm did not converge\n",
      "The line search algorithm did not converge\n",
      "The line search algorithm did not converge\n",
      "The line search algorithm did not converge\n",
      "The line search algorithm did not converge\n",
      "The line search algorithm did not converge\n",
      "The line search algorithm did not converge\n",
      "The line search algorithm did not converge\n",
      "The line search algorithm did not converge\n",
      "The line search algorithm did not converge\n",
      "The line search algorithm did not converge\n",
      "The line search algorithm did not converge\n",
      "The line search algorithm did not converge\n",
      "The line search algorithm did not converge\n",
      "The line search algorithm did not converge\n",
      "The line search algorithm did not converge\n",
      "The line search algorithm did not converge\n",
      "The line search algorithm did not converge\n",
      "The line search algorithm did not converge\n",
      "The line search algorithm did not converge\n",
      "The line search algorithm did not converge\n",
      "The line search algorithm did not converge\n",
      "The line search algorithm did not converge\n",
      "The line search algorithm did not converge\n",
      "The line search algorithm did not converge\n",
      "The line search algorithm did not converge\n",
      "The line search algorithm did not converge\n",
      "The line search algorithm did not converge\n",
      "The line search algorithm did not converge\n",
      "The line search algorithm did not converge\n",
      "The line search algorithm did not converge\n",
      "The line search algorithm did not converge\n",
      "The line search algorithm did not converge\n",
      "The line search algorithm did not converge\n",
      "The line search algorithm did not converge\n",
      "The line search algorithm did not converge\n",
      "The line search algorithm did not converge\n",
      "The line search algorithm did not converge\n",
      "The line search algorithm did not converge\n",
      "The line search algorithm did not converge\n",
      "The line search algorithm did not converge\n",
      "The line search algorithm did not converge\n",
      "The line search algorithm did not converge\n",
      "The line search algorithm did not converge\n",
      "The line search algorithm did not converge\n",
      "The line search algorithm did not converge\n"
     ]
    },
    {
     "name": "stdout",
     "output_type": "stream",
     "text": [
      "Best AUPR: 1.0\n",
      "Best F1: 0.9261111111111113\n",
      "Best estimator: LogisticRegression(C=0.01, random_state=42, solver='newton-cg')\n",
      "ET\n",
      "Best AUPR: 1.0\n",
      "Best F1: 0.8966666666666667\n",
      "Best estimator: ExtraTreesClassifier(max_depth=50, max_features='sqrt', min_samples_leaf=2,\n",
      "                     n_estimators=500, random_state=42)\n",
      "RF\n",
      "Best AUPR: 1.0\n",
      "Best F1: 0.9232352941176473\n",
      "Best estimator: RandomForestClassifier(bootstrap=False, max_depth=50, max_features='sqrt',\n",
      "                       min_samples_leaf=2, n_estimators=500, random_state=42)\n",
      "KNN\n"
     ]
    },
    {
     "name": "stderr",
     "output_type": "stream",
     "text": [
      "The total space of parameters 154 is smaller than n_iter=200. Running 154 iterations. For exhaustive searches, use GridSearchCV.\n"
     ]
    },
    {
     "name": "stdout",
     "output_type": "stream",
     "text": [
      "Best AUPR: 0.9908072009291521\n",
      "Best F1: 0.9393464052287582\n",
      "Best estimator: KNeighborsClassifier(leaf_size=1, n_neighbors=15)\n",
      "Input: Sig Prot\n",
      "Dummy\n",
      "Best AUPR: 0.6273291925465838\n",
      "Best F1: 0.0\n",
      "Best estimator: DummyClassifier(random_state=42)\n",
      "GB\n"
     ]
    },
    {
     "name": "stderr",
     "output_type": "stream",
     "text": [
      "The total space of parameters 1 is smaller than n_iter=200. Running 1 iterations. For exhaustive searches, use GridSearchCV.\n"
     ]
    },
    {
     "name": "stdout",
     "output_type": "stream",
     "text": [
      "Best AUPR: 1.0\n",
      "Best F1: 0.9393464052287582\n",
      "Best estimator: GradientBoostingClassifier(learning_rate=0.5, max_depth=100,\n",
      "                           max_features='log2', min_samples_leaf=20,\n",
      "                           min_samples_split=80, random_state=42)\n",
      "SVC\n"
     ]
    },
    {
     "name": "stderr",
     "output_type": "stream",
     "text": [
      "The total space of parameters 48 is smaller than n_iter=200. Running 48 iterations. For exhaustive searches, use GridSearchCV.\n"
     ]
    },
    {
     "name": "stdout",
     "output_type": "stream",
     "text": [
      "Best AUPR: 0.996014164135818\n",
      "Best F1: 0.9513725490196079\n",
      "Best estimator: SVC(C=1, gamma=0.01, probability=True, random_state=42)\n",
      "LR\n"
     ]
    },
    {
     "name": "stderr",
     "output_type": "stream",
     "text": [
      "The total space of parameters 15 is smaller than n_iter=200. Running 15 iterations. For exhaustive searches, use GridSearchCV.\n",
      "The line search algorithm did not converge\n",
      "The line search algorithm did not converge\n",
      "The line search algorithm did not converge\n",
      "The line search algorithm did not converge\n",
      "The line search algorithm did not converge\n",
      "The line search algorithm did not converge\n"
     ]
    },
    {
     "name": "stdout",
     "output_type": "stream",
     "text": [
      "Best AUPR: 1.0\n",
      "Best F1: 0.9511111111111111\n",
      "Best estimator: LogisticRegression(C=10, random_state=42, solver='newton-cg')\n",
      "ET\n",
      "Best AUPR: 1.0\n",
      "Best F1: 0.910873015873016\n",
      "Best estimator: ExtraTreesClassifier(max_depth=50, max_features='sqrt', min_samples_leaf=2,\n",
      "                     min_samples_split=20, random_state=42)\n",
      "RF\n",
      "Best AUPR: 1.0\n",
      "Best F1: 0.9261111111111113\n",
      "Best estimator: RandomForestClassifier(bootstrap=False, max_depth=100, max_features='log2',\n",
      "                       min_samples_leaf=20, min_samples_split=20,\n",
      "                       n_estimators=500, random_state=42)\n",
      "KNN\n"
     ]
    },
    {
     "name": "stderr",
     "output_type": "stream",
     "text": [
      "The total space of parameters 154 is smaller than n_iter=200. Running 154 iterations. For exhaustive searches, use GridSearchCV.\n"
     ]
    },
    {
     "name": "stdout",
     "output_type": "stream",
     "text": [
      "Best AUPR: 0.9928637018115181\n",
      "Best F1: 0.9526797385620916\n",
      "Best estimator: KNeighborsClassifier(leaf_size=1, p=1)\n",
      "Input: All Prot\n",
      "Dummy\n",
      "Best AUPR: 0.6273291925465838\n",
      "Best F1: 0.0\n",
      "Best estimator: DummyClassifier(random_state=42)\n",
      "GB\n"
     ]
    },
    {
     "name": "stderr",
     "output_type": "stream",
     "text": [
      "The total space of parameters 1 is smaller than n_iter=200. Running 1 iterations. For exhaustive searches, use GridSearchCV.\n"
     ]
    },
    {
     "name": "stdout",
     "output_type": "stream",
     "text": [
      "Best AUPR: 1.0\n",
      "Best F1: 0.9226694186446508\n",
      "Best estimator: GradientBoostingClassifier(learning_rate=1, max_depth=50, max_features='sqrt',\n",
      "                           min_samples_leaf=2, min_samples_split=80,\n",
      "                           random_state=42)\n",
      "SVC\n"
     ]
    },
    {
     "name": "stderr",
     "output_type": "stream",
     "text": [
      "The total space of parameters 48 is smaller than n_iter=200. Running 48 iterations. For exhaustive searches, use GridSearchCV.\n"
     ]
    },
    {
     "name": "stdout",
     "output_type": "stream",
     "text": [
      "Best AUPR: 1.0\n",
      "Best F1: 0.9542483660130721\n",
      "Best estimator: SVC(C=100, gamma=0.001, probability=True, random_state=42)\n",
      "LR\n"
     ]
    },
    {
     "name": "stderr",
     "output_type": "stream",
     "text": [
      "The total space of parameters 15 is smaller than n_iter=200. Running 15 iterations. For exhaustive searches, use GridSearchCV.\n",
      "The line search algorithm did not converge\n",
      "The line search algorithm did not converge\n",
      "The line search algorithm did not converge\n",
      "The line search algorithm did not converge\n",
      "The line search algorithm did not converge\n",
      "The line search algorithm did not converge\n",
      "The line search algorithm did not converge\n",
      "The line search algorithm did not converge\n",
      "The line search algorithm did not converge\n",
      "The line search algorithm did not converge\n",
      "The line search algorithm did not converge\n",
      "The line search algorithm did not converge\n",
      "The line search algorithm did not converge\n",
      "The line search algorithm did not converge\n",
      "The line search algorithm did not converge\n",
      "The line search algorithm did not converge\n",
      "The line search algorithm did not converge\n",
      "The line search algorithm did not converge\n"
     ]
    },
    {
     "name": "stdout",
     "output_type": "stream",
     "text": [
      "Best AUPR: 1.0\n",
      "Best F1: 0.9513725490196079\n",
      "Best estimator: LogisticRegression(C=0.1, random_state=42, solver='newton-cg')\n",
      "ET\n",
      "Best AUPR: 1.0\n",
      "Best F1: 0.9079971988795519\n",
      "Best estimator: ExtraTreesClassifier(max_depth=5, max_features='sqrt', min_samples_leaf=2,\n",
      "                     min_samples_split=20, n_estimators=500, random_state=42)\n",
      "RF\n",
      "Best AUPR: 1.0\n",
      "Best F1: 0.9261111111111113\n",
      "Best estimator: RandomForestClassifier(bootstrap=False, max_depth=5, max_features='sqrt',\n",
      "                       min_samples_leaf=20, n_estimators=500, random_state=42)\n",
      "KNN\n"
     ]
    },
    {
     "name": "stderr",
     "output_type": "stream",
     "text": [
      "The total space of parameters 154 is smaller than n_iter=200. Running 154 iterations. For exhaustive searches, use GridSearchCV.\n"
     ]
    },
    {
     "name": "stdout",
     "output_type": "stream",
     "text": [
      "Best AUPR: 0.9855936564223793\n",
      "Best F1: 0.9631372549019609\n",
      "Best estimator: KNeighborsClassifier(leaf_size=1, n_neighbors=20)\n"
     ]
    }
   ],
   "source": [
    "#hyperparameter optimization on training set\n",
    "input_dict = {\n",
    "    'Sig Prec': sig_prec_bcorr,\n",
    "    'All Prec': prec_bcorr,\n",
    "    'Sig Prot': sig_prot_bcorr,\n",
    "    'All Prot': prot_bcorr}\n",
    "    \n",
    "#parameters\n",
    "Dummy_params = {}\n",
    "\n",
    "GB_params = {\n",
    "    'learning_rate': [0.1, 0.5, 1],\n",
    "    'max_depth': [5,50,100],\n",
    "    'n_estimators':[10,100,500],\n",
    "    'max_features':['sqrt','log2'],\n",
    "    'min_samples_leaf': [2, 20, 80, 200, 300],\n",
    "    'min_samples_split': [2, 20, 80, 200, 300]}\n",
    "\n",
    "SVC_params = {\n",
    "    'C': [0.1,1,10,100],\n",
    "    'kernel':['poly', 'rbf', 'sigmoid'],\n",
    "    'gamma':[1,0.1,0.01,0.001]}\n",
    "\n",
    "LR_params = {\n",
    "    'C':[0.01,0.1,1,10,100],\n",
    "    'penalty':['l2'],\n",
    "    'solver':['newton-cg'],\n",
    "    'max_iter':[100,200,300]}\n",
    "\n",
    "ET_params = {\n",
    "    'bootstrap': [False],\n",
    "    'max_depth': [5,50,100],\n",
    "    'n_estimators':[10,100,500],\n",
    "    'max_features':['sqrt','log2'],\n",
    "    'min_samples_leaf': [2, 20, 80, 200, 300],\n",
    "    'min_samples_split': [2, 20, 80, 200, 300]}\n",
    "\n",
    "RF_params = {\n",
    "    'bootstrap': [False],\n",
    "    'max_depth': [5,50,100],\n",
    "    'n_estimators':[10,100,500],\n",
    "    'max_features':['sqrt','log2'],\n",
    "    'min_samples_leaf': [2, 20, 80, 200, 300],\n",
    "    'min_samples_split': [2, 20, 80, 200, 300]}\n",
    "           \n",
    "KNN_params = {\n",
    "    'leaf_size': [1,5,10,15,20,25,30,35,40,45,50],\n",
    "    'n_neighbors': [1,5,10,15,20,25,30],\n",
    "    'p': [1,2]}\n",
    "    \n",
    "models_dict = {\n",
    "    'Dummy': DummyClassifier(random_state=42),\n",
    "    'GB': GradientBoostingClassifier(random_state=42),\n",
    "    'SVC': SVC(probability=True, random_state=42),\n",
    "    'LR': LogisticRegression(random_state=42),\n",
    "    'ET': ExtraTreesClassifier(random_state=42),\n",
    "    'RF': RandomForestClassifier(random_state=42),\n",
    "    'KNN': KNeighborsClassifier()}\n",
    "\n",
    "params_dict = {\n",
    "    'Dummy': Dummy_params,\n",
    "    'GB':GB_params,\n",
    "    'SVC':SVC_params,\n",
    "    'LR':LR_params,\n",
    "    'ET': ET_params,\n",
    "    'RF': RF_params,\n",
    "    'KNN': KNN_params}\n",
    "\n",
    "#run randomsearch\n",
    "all_model_dict = {}\n",
    "all_F1_dict = {}\n",
    "all_AUPR_dict = {}\n",
    "\n",
    "for i in input_dict.keys():\n",
    "    print('Input:', i)\n",
    "    temp_1 = {}\n",
    "    temp_2 = {}\n",
    "    temp_3 = {}\n",
    "    Xtrain, Xtest, ytrain, ytest = train_test_split(input_dict[i], prec_2_gr.Group, \n",
    "                                                    random_state=42, test_size=0.2,\n",
    "                                                    stratify=prec_2_gr.Group) \n",
    "    for x in models_dict.keys():\n",
    "        print(x)\n",
    "        clf = RandomizedSearchCV(models_dict[x], param_distributions = params_dict[x],\n",
    "                                 scoring='f1', refit=True, cv=5, n_iter=200, random_state=42)\n",
    "        clf.fit(Xtrain, ytrain)\n",
    "        y_predict_proba = clf.predict_proba(Xtrain)[:,1]\n",
    "        precision, recall, thresholds = precision_recall_curve(ytrain,y_predict_proba)\n",
    "        print('Best AUPR:',auc(recall, precision))\n",
    "        print('Best F1:',clf.best_score_)\n",
    "        print('Best estimator:',clf.best_estimator_)\n",
    "        temp_1[x] = clf.best_estimator_\n",
    "        temp_2[x] = clf.best_score_\n",
    "        temp_3[x] = auc(recall, precision)\n",
    "    all_model_dict[i] = temp_1\n",
    "    all_F1_dict[i] = temp_2\n",
    "    all_AUPR_dict[i] = temp_3\n",
    "    \n",
    "all_F1_df=pd.DataFrame.from_dict(all_F1_dict)\n",
    "all_AUPR_df=pd.DataFrame.from_dict(all_AUPR_dict)"
   ]
  },
  {
   "cell_type": "code",
   "execution_count": 73,
   "id": "c4ecd228-c0b7-4b99-a8bc-0336fd731d82",
   "metadata": {},
   "outputs": [
    {
     "data": {
      "text/html": [
       "<div>\n",
       "<style scoped>\n",
       "    .dataframe tbody tr th:only-of-type {\n",
       "        vertical-align: middle;\n",
       "    }\n",
       "\n",
       "    .dataframe tbody tr th {\n",
       "        vertical-align: top;\n",
       "    }\n",
       "\n",
       "    .dataframe thead th {\n",
       "        text-align: right;\n",
       "    }\n",
       "</style>\n",
       "<table border=\"1\" class=\"dataframe\">\n",
       "  <thead>\n",
       "    <tr style=\"text-align: right;\">\n",
       "      <th></th>\n",
       "      <th>Sig Prec</th>\n",
       "      <th>All Prec</th>\n",
       "      <th>Sig Prot</th>\n",
       "      <th>All Prot</th>\n",
       "    </tr>\n",
       "  </thead>\n",
       "  <tbody>\n",
       "    <tr>\n",
       "      <th>Dummy</th>\n",
       "      <td>0.627329</td>\n",
       "      <td>0.627329</td>\n",
       "      <td>0.627329</td>\n",
       "      <td>0.627329</td>\n",
       "    </tr>\n",
       "    <tr>\n",
       "      <th>GB</th>\n",
       "      <td>1.000000</td>\n",
       "      <td>1.000000</td>\n",
       "      <td>1.000000</td>\n",
       "      <td>1.000000</td>\n",
       "    </tr>\n",
       "    <tr>\n",
       "      <th>SVC</th>\n",
       "      <td>1.000000</td>\n",
       "      <td>1.000000</td>\n",
       "      <td>0.996014</td>\n",
       "      <td>1.000000</td>\n",
       "    </tr>\n",
       "    <tr>\n",
       "      <th>LR</th>\n",
       "      <td>1.000000</td>\n",
       "      <td>1.000000</td>\n",
       "      <td>1.000000</td>\n",
       "      <td>1.000000</td>\n",
       "    </tr>\n",
       "    <tr>\n",
       "      <th>ET</th>\n",
       "      <td>1.000000</td>\n",
       "      <td>1.000000</td>\n",
       "      <td>1.000000</td>\n",
       "      <td>1.000000</td>\n",
       "    </tr>\n",
       "    <tr>\n",
       "      <th>RF</th>\n",
       "      <td>1.000000</td>\n",
       "      <td>1.000000</td>\n",
       "      <td>1.000000</td>\n",
       "      <td>1.000000</td>\n",
       "    </tr>\n",
       "    <tr>\n",
       "      <th>KNN</th>\n",
       "      <td>0.990155</td>\n",
       "      <td>0.990807</td>\n",
       "      <td>0.992864</td>\n",
       "      <td>0.985594</td>\n",
       "    </tr>\n",
       "  </tbody>\n",
       "</table>\n",
       "</div>"
      ],
      "text/plain": [
       "       Sig Prec  All Prec  Sig Prot  All Prot\n",
       "Dummy  0.627329  0.627329  0.627329  0.627329\n",
       "GB     1.000000  1.000000  1.000000  1.000000\n",
       "SVC    1.000000  1.000000  0.996014  1.000000\n",
       "LR     1.000000  1.000000  1.000000  1.000000\n",
       "ET     1.000000  1.000000  1.000000  1.000000\n",
       "RF     1.000000  1.000000  1.000000  1.000000\n",
       "KNN    0.990155  0.990807  0.992864  0.985594"
      ]
     },
     "execution_count": 73,
     "metadata": {},
     "output_type": "execute_result"
    }
   ],
   "source": [
    "all_AUPR_df"
   ]
  },
  {
   "cell_type": "code",
   "execution_count": 74,
   "id": "2dd92dd8-01d3-4870-aae6-066ded279af8",
   "metadata": {},
   "outputs": [],
   "source": [
    "all_F1_df=pd.DataFrame.from_dict(all_F1_dict)"
   ]
  },
  {
   "cell_type": "code",
   "execution_count": 75,
   "id": "ba37c092-062e-48dc-bb3a-f8ad17383b91",
   "metadata": {},
   "outputs": [
    {
     "data": {
      "text/html": [
       "<div>\n",
       "<style scoped>\n",
       "    .dataframe tbody tr th:only-of-type {\n",
       "        vertical-align: middle;\n",
       "    }\n",
       "\n",
       "    .dataframe tbody tr th {\n",
       "        vertical-align: top;\n",
       "    }\n",
       "\n",
       "    .dataframe thead th {\n",
       "        text-align: right;\n",
       "    }\n",
       "</style>\n",
       "<table border=\"1\" class=\"dataframe\">\n",
       "  <thead>\n",
       "    <tr style=\"text-align: right;\">\n",
       "      <th></th>\n",
       "      <th>Sig Prec</th>\n",
       "      <th>All Prec</th>\n",
       "      <th>Sig Prot</th>\n",
       "      <th>All Prot</th>\n",
       "    </tr>\n",
       "  </thead>\n",
       "  <tbody>\n",
       "    <tr>\n",
       "      <th>Dummy</th>\n",
       "      <td>0.000000</td>\n",
       "      <td>0.000000</td>\n",
       "      <td>0.000000</td>\n",
       "      <td>0.000000</td>\n",
       "    </tr>\n",
       "    <tr>\n",
       "      <th>GB</th>\n",
       "      <td>0.938137</td>\n",
       "      <td>0.939444</td>\n",
       "      <td>0.939346</td>\n",
       "      <td>0.922669</td>\n",
       "    </tr>\n",
       "    <tr>\n",
       "      <th>SVC</th>\n",
       "      <td>0.949902</td>\n",
       "      <td>0.939346</td>\n",
       "      <td>0.951373</td>\n",
       "      <td>0.954248</td>\n",
       "    </tr>\n",
       "    <tr>\n",
       "      <th>LR</th>\n",
       "      <td>0.939346</td>\n",
       "      <td>0.926111</td>\n",
       "      <td>0.951111</td>\n",
       "      <td>0.951373</td>\n",
       "    </tr>\n",
       "    <tr>\n",
       "      <th>ET</th>\n",
       "      <td>0.923235</td>\n",
       "      <td>0.896667</td>\n",
       "      <td>0.910873</td>\n",
       "      <td>0.907997</td>\n",
       "    </tr>\n",
       "    <tr>\n",
       "      <th>RF</th>\n",
       "      <td>0.924804</td>\n",
       "      <td>0.923235</td>\n",
       "      <td>0.926111</td>\n",
       "      <td>0.926111</td>\n",
       "    </tr>\n",
       "    <tr>\n",
       "      <th>KNN</th>\n",
       "      <td>0.948333</td>\n",
       "      <td>0.939346</td>\n",
       "      <td>0.952680</td>\n",
       "      <td>0.963137</td>\n",
       "    </tr>\n",
       "  </tbody>\n",
       "</table>\n",
       "</div>"
      ],
      "text/plain": [
       "       Sig Prec  All Prec  Sig Prot  All Prot\n",
       "Dummy  0.000000  0.000000  0.000000  0.000000\n",
       "GB     0.938137  0.939444  0.939346  0.922669\n",
       "SVC    0.949902  0.939346  0.951373  0.954248\n",
       "LR     0.939346  0.926111  0.951111  0.951373\n",
       "ET     0.923235  0.896667  0.910873  0.907997\n",
       "RF     0.924804  0.923235  0.926111  0.926111\n",
       "KNN    0.948333  0.939346  0.952680  0.963137"
      ]
     },
     "execution_count": 75,
     "metadata": {},
     "output_type": "execute_result"
    }
   ],
   "source": [
    "all_F1_df"
   ]
  },
  {
   "cell_type": "code",
   "execution_count": 76,
   "id": "c11aa277-6918-4f73-948f-7d1a74d3f93f",
   "metadata": {},
   "outputs": [],
   "source": [
    "input_dict = {\n",
    "    'Sig Prec': sig_prec_bcorr,\n",
    "    'All Prec': prec_bcorr,\n",
    "    'Sig Prot': sig_prot_bcorr,\n",
    "    'All Prot': prot_bcorr}\n",
    "\n",
    "#evaluate test set\n",
    "auroc = {}\n",
    "fpr = {}\n",
    "tpr = {}\n",
    "threshold = {}\n",
    "AP = {}\n",
    "f1 = {}\n",
    "specificity = {}\n",
    "bal_accuracy = {}\n",
    "precision = {}\n",
    "recall1= {}\n",
    "AUPR = {}\n",
    "MCC= {}\n",
    "prec = {}\n",
    "\n",
    "for x in all_model_dict.keys():\n",
    "    temp1 = {}\n",
    "    temp2 = {}\n",
    "    temp3 = {}\n",
    "    temp4 = {} \n",
    "    temp5 = {}\n",
    "    temp6 = {}\n",
    "    temp7 = {}\n",
    "    temp8 = {}\n",
    "    temp9 = {}\n",
    "    temp10 = {}\n",
    "    temp11 = {}\n",
    "    temp12 = {}\n",
    "    Xtrain, Xtest, ytrain, ytest = train_test_split(input_dict[x], prec_2_gr.Group, \n",
    "                                                    random_state=42, test_size=0.2,\n",
    "                                                    stratify=prec_2_gr.Group) \n",
    "    \n",
    "    for y in all_model_dict[x].keys():\n",
    "        model = all_model_dict[x][y]\n",
    "        ypred = model.predict(Xtest)\n",
    "        probs = model.predict_proba(Xtest)\n",
    "        pos_probs = probs[:, 1]\n",
    "        temp1[y] = roc_auc_score(ytest, pos_probs)\n",
    "        temp2[y], temp3[y], temp4[y] = roc_curve(ytest, pos_probs)\n",
    "        temp5[y] = average_precision_score(ytest, ypred)\n",
    "        temp6[y] = f1_score(ytest, ypred)\n",
    "        temp7[y] = recall_score(ytest, ypred)\n",
    "        temp8[y] = balanced_accuracy_score(ytest, ypred)\n",
    "        temp9[y] = recall_score(ytest, ypred, pos_label=0)\n",
    "        precision, recall, _ = precision_recall_curve(ytest, pos_probs)\n",
    "        temp10[y] = auc(recall, precision)\n",
    "        temp11[y] = matthews_corrcoef(ytest, ypred)\n",
    "        temp12[y] = precision_score(ytest, ypred,zero_division=0)\n",
    "    auroc[x] = temp1\n",
    "    fpr[x] = temp2\n",
    "    tpr[x] = temp3\n",
    "    threshold [x] = temp4\n",
    "    AP[x] = temp5\n",
    "    f1[x] = temp6\n",
    "    recall1[x] = temp7\n",
    "    bal_accuracy[x] = temp8\n",
    "    specificity[x] = temp9\n",
    "    AUPR[x] = temp10\n",
    "    MCC[x] = temp11\n",
    "    prec[x] = temp12"
   ]
  },
  {
   "cell_type": "code",
   "execution_count": 77,
   "id": "351d3fca-e073-4842-b220-ad57a036e928",
   "metadata": {},
   "outputs": [
    {
     "data": {
      "text/html": [
       "<div>\n",
       "<style scoped>\n",
       "    .dataframe tbody tr th:only-of-type {\n",
       "        vertical-align: middle;\n",
       "    }\n",
       "\n",
       "    .dataframe tbody tr th {\n",
       "        vertical-align: top;\n",
       "    }\n",
       "\n",
       "    .dataframe thead th {\n",
       "        text-align: right;\n",
       "    }\n",
       "</style>\n",
       "<table border=\"1\" class=\"dataframe\">\n",
       "  <thead>\n",
       "    <tr style=\"text-align: right;\">\n",
       "      <th></th>\n",
       "      <th>Sig Prec</th>\n",
       "      <th>All Prec</th>\n",
       "      <th>Sig Prot</th>\n",
       "      <th>All Prot</th>\n",
       "    </tr>\n",
       "  </thead>\n",
       "  <tbody>\n",
       "    <tr>\n",
       "      <th>Dummy</th>\n",
       "      <td>0.000000</td>\n",
       "      <td>0.000000</td>\n",
       "      <td>0.000000</td>\n",
       "      <td>0.000000</td>\n",
       "    </tr>\n",
       "    <tr>\n",
       "      <th>GB</th>\n",
       "      <td>0.909091</td>\n",
       "      <td>0.869565</td>\n",
       "      <td>0.956522</td>\n",
       "      <td>0.800000</td>\n",
       "    </tr>\n",
       "    <tr>\n",
       "      <th>SVC</th>\n",
       "      <td>0.956522</td>\n",
       "      <td>0.909091</td>\n",
       "      <td>0.956522</td>\n",
       "      <td>0.857143</td>\n",
       "    </tr>\n",
       "    <tr>\n",
       "      <th>LR</th>\n",
       "      <td>0.909091</td>\n",
       "      <td>0.909091</td>\n",
       "      <td>0.956522</td>\n",
       "      <td>0.909091</td>\n",
       "    </tr>\n",
       "    <tr>\n",
       "      <th>ET</th>\n",
       "      <td>0.857143</td>\n",
       "      <td>0.857143</td>\n",
       "      <td>0.909091</td>\n",
       "      <td>0.909091</td>\n",
       "    </tr>\n",
       "    <tr>\n",
       "      <th>RF</th>\n",
       "      <td>0.857143</td>\n",
       "      <td>0.857143</td>\n",
       "      <td>0.800000</td>\n",
       "      <td>0.800000</td>\n",
       "    </tr>\n",
       "    <tr>\n",
       "      <th>KNN</th>\n",
       "      <td>0.956522</td>\n",
       "      <td>0.956522</td>\n",
       "      <td>0.956522</td>\n",
       "      <td>0.956522</td>\n",
       "    </tr>\n",
       "  </tbody>\n",
       "</table>\n",
       "</div>"
      ],
      "text/plain": [
       "       Sig Prec  All Prec  Sig Prot  All Prot\n",
       "Dummy  0.000000  0.000000  0.000000  0.000000\n",
       "GB     0.909091  0.869565  0.956522  0.800000\n",
       "SVC    0.956522  0.909091  0.956522  0.857143\n",
       "LR     0.909091  0.909091  0.956522  0.909091\n",
       "ET     0.857143  0.857143  0.909091  0.909091\n",
       "RF     0.857143  0.857143  0.800000  0.800000\n",
       "KNN    0.956522  0.956522  0.956522  0.956522"
      ]
     },
     "execution_count": 77,
     "metadata": {},
     "output_type": "execute_result"
    }
   ],
   "source": [
    "f1=pd.DataFrame.from_dict(f1)\n",
    "f1"
   ]
  },
  {
   "cell_type": "code",
   "execution_count": 78,
   "id": "f4b5b2dc-defd-4b29-a4c5-0daae993f8e4",
   "metadata": {},
   "outputs": [
    {
     "data": {
      "text/html": [
       "<div>\n",
       "<style scoped>\n",
       "    .dataframe tbody tr th:only-of-type {\n",
       "        vertical-align: middle;\n",
       "    }\n",
       "\n",
       "    .dataframe tbody tr th {\n",
       "        vertical-align: top;\n",
       "    }\n",
       "\n",
       "    .dataframe thead th {\n",
       "        text-align: right;\n",
       "    }\n",
       "</style>\n",
       "<table border=\"1\" class=\"dataframe\">\n",
       "  <thead>\n",
       "    <tr style=\"text-align: right;\">\n",
       "      <th></th>\n",
       "      <th>Sig Prec</th>\n",
       "      <th>All Prec</th>\n",
       "      <th>Sig Prot</th>\n",
       "      <th>All Prot</th>\n",
       "    </tr>\n",
       "  </thead>\n",
       "  <tbody>\n",
       "    <tr>\n",
       "      <th>Dummy</th>\n",
       "      <td>0.268293</td>\n",
       "      <td>0.268293</td>\n",
       "      <td>0.268293</td>\n",
       "      <td>0.268293</td>\n",
       "    </tr>\n",
       "    <tr>\n",
       "      <th>GB</th>\n",
       "      <td>0.850837</td>\n",
       "      <td>0.781966</td>\n",
       "      <td>0.916667</td>\n",
       "      <td>0.719635</td>\n",
       "    </tr>\n",
       "    <tr>\n",
       "      <th>SVC</th>\n",
       "      <td>0.916667</td>\n",
       "      <td>0.850837</td>\n",
       "      <td>0.916667</td>\n",
       "      <td>0.785144</td>\n",
       "    </tr>\n",
       "    <tr>\n",
       "      <th>LR</th>\n",
       "      <td>0.850837</td>\n",
       "      <td>0.850837</td>\n",
       "      <td>0.916667</td>\n",
       "      <td>0.850837</td>\n",
       "    </tr>\n",
       "    <tr>\n",
       "      <th>ET</th>\n",
       "      <td>0.785144</td>\n",
       "      <td>0.785144</td>\n",
       "      <td>0.850837</td>\n",
       "      <td>0.850837</td>\n",
       "    </tr>\n",
       "    <tr>\n",
       "      <th>RF</th>\n",
       "      <td>0.785144</td>\n",
       "      <td>0.785144</td>\n",
       "      <td>0.719635</td>\n",
       "      <td>0.719635</td>\n",
       "    </tr>\n",
       "    <tr>\n",
       "      <th>KNN</th>\n",
       "      <td>0.916667</td>\n",
       "      <td>0.916667</td>\n",
       "      <td>0.916667</td>\n",
       "      <td>0.916667</td>\n",
       "    </tr>\n",
       "  </tbody>\n",
       "</table>\n",
       "</div>"
      ],
      "text/plain": [
       "       Sig Prec  All Prec  Sig Prot  All Prot\n",
       "Dummy  0.268293  0.268293  0.268293  0.268293\n",
       "GB     0.850837  0.781966  0.916667  0.719635\n",
       "SVC    0.916667  0.850837  0.916667  0.785144\n",
       "LR     0.850837  0.850837  0.916667  0.850837\n",
       "ET     0.785144  0.785144  0.850837  0.850837\n",
       "RF     0.785144  0.785144  0.719635  0.719635\n",
       "KNN    0.916667  0.916667  0.916667  0.916667"
      ]
     },
     "execution_count": 78,
     "metadata": {},
     "output_type": "execute_result"
    }
   ],
   "source": [
    "AP=pd.DataFrame.from_dict(AP)\n",
    "AP"
   ]
  },
  {
   "cell_type": "code",
   "execution_count": 79,
   "id": "b0faaad5-bf36-489d-9dd7-310fa3f4ebbb",
   "metadata": {},
   "outputs": [
    {
     "data": {
      "text/html": [
       "<div>\n",
       "<style scoped>\n",
       "    .dataframe tbody tr th:only-of-type {\n",
       "        vertical-align: middle;\n",
       "    }\n",
       "\n",
       "    .dataframe tbody tr th {\n",
       "        vertical-align: top;\n",
       "    }\n",
       "\n",
       "    .dataframe thead th {\n",
       "        text-align: right;\n",
       "    }\n",
       "</style>\n",
       "<table border=\"1\" class=\"dataframe\">\n",
       "  <thead>\n",
       "    <tr style=\"text-align: right;\">\n",
       "      <th></th>\n",
       "      <th>Sig Prec</th>\n",
       "      <th>All Prec</th>\n",
       "      <th>Sig Prot</th>\n",
       "      <th>All Prot</th>\n",
       "    </tr>\n",
       "  </thead>\n",
       "  <tbody>\n",
       "    <tr>\n",
       "      <th>Dummy</th>\n",
       "      <td>0.500000</td>\n",
       "      <td>0.500000</td>\n",
       "      <td>0.500000</td>\n",
       "      <td>0.500000</td>\n",
       "    </tr>\n",
       "    <tr>\n",
       "      <th>GB</th>\n",
       "      <td>0.987879</td>\n",
       "      <td>0.963636</td>\n",
       "      <td>0.993939</td>\n",
       "      <td>0.981818</td>\n",
       "    </tr>\n",
       "    <tr>\n",
       "      <th>SVC</th>\n",
       "      <td>0.987879</td>\n",
       "      <td>0.984848</td>\n",
       "      <td>0.981818</td>\n",
       "      <td>0.990909</td>\n",
       "    </tr>\n",
       "    <tr>\n",
       "      <th>LR</th>\n",
       "      <td>0.987879</td>\n",
       "      <td>0.990909</td>\n",
       "      <td>0.987879</td>\n",
       "      <td>0.987879</td>\n",
       "    </tr>\n",
       "    <tr>\n",
       "      <th>ET</th>\n",
       "      <td>0.993939</td>\n",
       "      <td>0.993939</td>\n",
       "      <td>0.987879</td>\n",
       "      <td>0.987879</td>\n",
       "    </tr>\n",
       "    <tr>\n",
       "      <th>RF</th>\n",
       "      <td>0.975758</td>\n",
       "      <td>0.990909</td>\n",
       "      <td>0.987879</td>\n",
       "      <td>0.987879</td>\n",
       "    </tr>\n",
       "    <tr>\n",
       "      <th>KNN</th>\n",
       "      <td>0.990909</td>\n",
       "      <td>0.993939</td>\n",
       "      <td>0.995455</td>\n",
       "      <td>0.971212</td>\n",
       "    </tr>\n",
       "  </tbody>\n",
       "</table>\n",
       "</div>"
      ],
      "text/plain": [
       "       Sig Prec  All Prec  Sig Prot  All Prot\n",
       "Dummy  0.500000  0.500000  0.500000  0.500000\n",
       "GB     0.987879  0.963636  0.993939  0.981818\n",
       "SVC    0.987879  0.984848  0.981818  0.990909\n",
       "LR     0.987879  0.990909  0.987879  0.987879\n",
       "ET     0.993939  0.993939  0.987879  0.987879\n",
       "RF     0.975758  0.990909  0.987879  0.987879\n",
       "KNN    0.990909  0.993939  0.995455  0.971212"
      ]
     },
     "execution_count": 79,
     "metadata": {},
     "output_type": "execute_result"
    }
   ],
   "source": [
    "auroc=pd.DataFrame.from_dict(auroc)\n",
    "auroc"
   ]
  },
  {
   "cell_type": "code",
   "execution_count": 80,
   "id": "9e153a4b-85a3-41a0-b598-c9aa5c0bc0d4",
   "metadata": {},
   "outputs": [
    {
     "data": {
      "text/html": [
       "<div>\n",
       "<style scoped>\n",
       "    .dataframe tbody tr th:only-of-type {\n",
       "        vertical-align: middle;\n",
       "    }\n",
       "\n",
       "    .dataframe tbody tr th {\n",
       "        vertical-align: top;\n",
       "    }\n",
       "\n",
       "    .dataframe thead th {\n",
       "        text-align: right;\n",
       "    }\n",
       "</style>\n",
       "<table border=\"1\" class=\"dataframe\">\n",
       "  <thead>\n",
       "    <tr style=\"text-align: right;\">\n",
       "      <th></th>\n",
       "      <th>Sig Prec</th>\n",
       "      <th>All Prec</th>\n",
       "      <th>Sig Prot</th>\n",
       "      <th>All Prot</th>\n",
       "    </tr>\n",
       "  </thead>\n",
       "  <tbody>\n",
       "    <tr>\n",
       "      <th>Dummy</th>\n",
       "      <td>0.000000</td>\n",
       "      <td>0.000000</td>\n",
       "      <td>0.000000</td>\n",
       "      <td>0.000000</td>\n",
       "    </tr>\n",
       "    <tr>\n",
       "      <th>GB</th>\n",
       "      <td>0.909091</td>\n",
       "      <td>0.909091</td>\n",
       "      <td>1.000000</td>\n",
       "      <td>0.727273</td>\n",
       "    </tr>\n",
       "    <tr>\n",
       "      <th>SVC</th>\n",
       "      <td>1.000000</td>\n",
       "      <td>0.909091</td>\n",
       "      <td>1.000000</td>\n",
       "      <td>0.818182</td>\n",
       "    </tr>\n",
       "    <tr>\n",
       "      <th>LR</th>\n",
       "      <td>0.909091</td>\n",
       "      <td>0.909091</td>\n",
       "      <td>1.000000</td>\n",
       "      <td>0.909091</td>\n",
       "    </tr>\n",
       "    <tr>\n",
       "      <th>ET</th>\n",
       "      <td>0.818182</td>\n",
       "      <td>0.818182</td>\n",
       "      <td>0.909091</td>\n",
       "      <td>0.909091</td>\n",
       "    </tr>\n",
       "    <tr>\n",
       "      <th>RF</th>\n",
       "      <td>0.818182</td>\n",
       "      <td>0.818182</td>\n",
       "      <td>0.727273</td>\n",
       "      <td>0.727273</td>\n",
       "    </tr>\n",
       "    <tr>\n",
       "      <th>KNN</th>\n",
       "      <td>1.000000</td>\n",
       "      <td>1.000000</td>\n",
       "      <td>1.000000</td>\n",
       "      <td>1.000000</td>\n",
       "    </tr>\n",
       "  </tbody>\n",
       "</table>\n",
       "</div>"
      ],
      "text/plain": [
       "       Sig Prec  All Prec  Sig Prot  All Prot\n",
       "Dummy  0.000000  0.000000  0.000000  0.000000\n",
       "GB     0.909091  0.909091  1.000000  0.727273\n",
       "SVC    1.000000  0.909091  1.000000  0.818182\n",
       "LR     0.909091  0.909091  1.000000  0.909091\n",
       "ET     0.818182  0.818182  0.909091  0.909091\n",
       "RF     0.818182  0.818182  0.727273  0.727273\n",
       "KNN    1.000000  1.000000  1.000000  1.000000"
      ]
     },
     "execution_count": 80,
     "metadata": {},
     "output_type": "execute_result"
    }
   ],
   "source": [
    "#recall=sensitivity\n",
    "recall=pd.DataFrame.from_dict(recall1)\n",
    "recall"
   ]
  },
  {
   "cell_type": "code",
   "execution_count": 81,
   "id": "131e83da-97ef-4209-83b1-129f95506d58",
   "metadata": {},
   "outputs": [
    {
     "data": {
      "text/html": [
       "<div>\n",
       "<style scoped>\n",
       "    .dataframe tbody tr th:only-of-type {\n",
       "        vertical-align: middle;\n",
       "    }\n",
       "\n",
       "    .dataframe tbody tr th {\n",
       "        vertical-align: top;\n",
       "    }\n",
       "\n",
       "    .dataframe thead th {\n",
       "        text-align: right;\n",
       "    }\n",
       "</style>\n",
       "<table border=\"1\" class=\"dataframe\">\n",
       "  <thead>\n",
       "    <tr style=\"text-align: right;\">\n",
       "      <th></th>\n",
       "      <th>Sig Prec</th>\n",
       "      <th>All Prec</th>\n",
       "      <th>Sig Prot</th>\n",
       "      <th>All Prot</th>\n",
       "    </tr>\n",
       "  </thead>\n",
       "  <tbody>\n",
       "    <tr>\n",
       "      <th>Dummy</th>\n",
       "      <td>1.000000</td>\n",
       "      <td>1.000000</td>\n",
       "      <td>1.000000</td>\n",
       "      <td>1.000000</td>\n",
       "    </tr>\n",
       "    <tr>\n",
       "      <th>GB</th>\n",
       "      <td>0.966667</td>\n",
       "      <td>0.933333</td>\n",
       "      <td>0.966667</td>\n",
       "      <td>0.966667</td>\n",
       "    </tr>\n",
       "    <tr>\n",
       "      <th>SVC</th>\n",
       "      <td>0.966667</td>\n",
       "      <td>0.966667</td>\n",
       "      <td>0.966667</td>\n",
       "      <td>0.966667</td>\n",
       "    </tr>\n",
       "    <tr>\n",
       "      <th>LR</th>\n",
       "      <td>0.966667</td>\n",
       "      <td>0.966667</td>\n",
       "      <td>0.966667</td>\n",
       "      <td>0.966667</td>\n",
       "    </tr>\n",
       "    <tr>\n",
       "      <th>ET</th>\n",
       "      <td>0.966667</td>\n",
       "      <td>0.966667</td>\n",
       "      <td>0.966667</td>\n",
       "      <td>0.966667</td>\n",
       "    </tr>\n",
       "    <tr>\n",
       "      <th>RF</th>\n",
       "      <td>0.966667</td>\n",
       "      <td>0.966667</td>\n",
       "      <td>0.966667</td>\n",
       "      <td>0.966667</td>\n",
       "    </tr>\n",
       "    <tr>\n",
       "      <th>KNN</th>\n",
       "      <td>0.966667</td>\n",
       "      <td>0.966667</td>\n",
       "      <td>0.966667</td>\n",
       "      <td>0.966667</td>\n",
       "    </tr>\n",
       "  </tbody>\n",
       "</table>\n",
       "</div>"
      ],
      "text/plain": [
       "       Sig Prec  All Prec  Sig Prot  All Prot\n",
       "Dummy  1.000000  1.000000  1.000000  1.000000\n",
       "GB     0.966667  0.933333  0.966667  0.966667\n",
       "SVC    0.966667  0.966667  0.966667  0.966667\n",
       "LR     0.966667  0.966667  0.966667  0.966667\n",
       "ET     0.966667  0.966667  0.966667  0.966667\n",
       "RF     0.966667  0.966667  0.966667  0.966667\n",
       "KNN    0.966667  0.966667  0.966667  0.966667"
      ]
     },
     "execution_count": 81,
     "metadata": {},
     "output_type": "execute_result"
    }
   ],
   "source": [
    "specificity=pd.DataFrame.from_dict(specificity)\n",
    "specificity"
   ]
  },
  {
   "cell_type": "code",
   "execution_count": 82,
   "id": "5541f073-f755-49ae-adf0-1391afb39e5b",
   "metadata": {},
   "outputs": [
    {
     "data": {
      "text/html": [
       "<div>\n",
       "<style scoped>\n",
       "    .dataframe tbody tr th:only-of-type {\n",
       "        vertical-align: middle;\n",
       "    }\n",
       "\n",
       "    .dataframe tbody tr th {\n",
       "        vertical-align: top;\n",
       "    }\n",
       "\n",
       "    .dataframe thead th {\n",
       "        text-align: right;\n",
       "    }\n",
       "</style>\n",
       "<table border=\"1\" class=\"dataframe\">\n",
       "  <thead>\n",
       "    <tr style=\"text-align: right;\">\n",
       "      <th></th>\n",
       "      <th>Sig Prec</th>\n",
       "      <th>All Prec</th>\n",
       "      <th>Sig Prot</th>\n",
       "      <th>All Prot</th>\n",
       "    </tr>\n",
       "  </thead>\n",
       "  <tbody>\n",
       "    <tr>\n",
       "      <th>Dummy</th>\n",
       "      <td>0.500000</td>\n",
       "      <td>0.500000</td>\n",
       "      <td>0.500000</td>\n",
       "      <td>0.500000</td>\n",
       "    </tr>\n",
       "    <tr>\n",
       "      <th>GB</th>\n",
       "      <td>0.937879</td>\n",
       "      <td>0.921212</td>\n",
       "      <td>0.983333</td>\n",
       "      <td>0.846970</td>\n",
       "    </tr>\n",
       "    <tr>\n",
       "      <th>SVC</th>\n",
       "      <td>0.983333</td>\n",
       "      <td>0.937879</td>\n",
       "      <td>0.983333</td>\n",
       "      <td>0.892424</td>\n",
       "    </tr>\n",
       "    <tr>\n",
       "      <th>LR</th>\n",
       "      <td>0.937879</td>\n",
       "      <td>0.937879</td>\n",
       "      <td>0.983333</td>\n",
       "      <td>0.937879</td>\n",
       "    </tr>\n",
       "    <tr>\n",
       "      <th>ET</th>\n",
       "      <td>0.892424</td>\n",
       "      <td>0.892424</td>\n",
       "      <td>0.937879</td>\n",
       "      <td>0.937879</td>\n",
       "    </tr>\n",
       "    <tr>\n",
       "      <th>RF</th>\n",
       "      <td>0.892424</td>\n",
       "      <td>0.892424</td>\n",
       "      <td>0.846970</td>\n",
       "      <td>0.846970</td>\n",
       "    </tr>\n",
       "    <tr>\n",
       "      <th>KNN</th>\n",
       "      <td>0.983333</td>\n",
       "      <td>0.983333</td>\n",
       "      <td>0.983333</td>\n",
       "      <td>0.983333</td>\n",
       "    </tr>\n",
       "  </tbody>\n",
       "</table>\n",
       "</div>"
      ],
      "text/plain": [
       "       Sig Prec  All Prec  Sig Prot  All Prot\n",
       "Dummy  0.500000  0.500000  0.500000  0.500000\n",
       "GB     0.937879  0.921212  0.983333  0.846970\n",
       "SVC    0.983333  0.937879  0.983333  0.892424\n",
       "LR     0.937879  0.937879  0.983333  0.937879\n",
       "ET     0.892424  0.892424  0.937879  0.937879\n",
       "RF     0.892424  0.892424  0.846970  0.846970\n",
       "KNN    0.983333  0.983333  0.983333  0.983333"
      ]
     },
     "execution_count": 82,
     "metadata": {},
     "output_type": "execute_result"
    }
   ],
   "source": [
    "accuracy=pd.DataFrame.from_dict(bal_accuracy)\n",
    "accuracy"
   ]
  },
  {
   "cell_type": "code",
   "execution_count": 83,
   "id": "52d4db76-a2d5-40ee-b4f2-1123c654dd7e",
   "metadata": {},
   "outputs": [
    {
     "data": {
      "text/html": [
       "<div>\n",
       "<style scoped>\n",
       "    .dataframe tbody tr th:only-of-type {\n",
       "        vertical-align: middle;\n",
       "    }\n",
       "\n",
       "    .dataframe tbody tr th {\n",
       "        vertical-align: top;\n",
       "    }\n",
       "\n",
       "    .dataframe thead th {\n",
       "        text-align: right;\n",
       "    }\n",
       "</style>\n",
       "<table border=\"1\" class=\"dataframe\">\n",
       "  <thead>\n",
       "    <tr style=\"text-align: right;\">\n",
       "      <th></th>\n",
       "      <th>Sig Prec</th>\n",
       "      <th>All Prec</th>\n",
       "      <th>Sig Prot</th>\n",
       "      <th>All Prot</th>\n",
       "    </tr>\n",
       "  </thead>\n",
       "  <tbody>\n",
       "    <tr>\n",
       "      <th>Dummy</th>\n",
       "      <td>0.634146</td>\n",
       "      <td>0.634146</td>\n",
       "      <td>0.634146</td>\n",
       "      <td>0.634146</td>\n",
       "    </tr>\n",
       "    <tr>\n",
       "      <th>GB</th>\n",
       "      <td>0.971093</td>\n",
       "      <td>0.823005</td>\n",
       "      <td>0.983402</td>\n",
       "      <td>0.954334</td>\n",
       "    </tr>\n",
       "    <tr>\n",
       "      <th>SVC</th>\n",
       "      <td>0.963074</td>\n",
       "      <td>0.950899</td>\n",
       "      <td>0.936829</td>\n",
       "      <td>0.973806</td>\n",
       "    </tr>\n",
       "    <tr>\n",
       "      <th>LR</th>\n",
       "      <td>0.963074</td>\n",
       "      <td>0.973806</td>\n",
       "      <td>0.963074</td>\n",
       "      <td>0.963074</td>\n",
       "    </tr>\n",
       "    <tr>\n",
       "      <th>ET</th>\n",
       "      <td>0.983402</td>\n",
       "      <td>0.983402</td>\n",
       "      <td>0.963074</td>\n",
       "      <td>0.963074</td>\n",
       "    </tr>\n",
       "    <tr>\n",
       "      <th>RF</th>\n",
       "      <td>0.937589</td>\n",
       "      <td>0.973806</td>\n",
       "      <td>0.963074</td>\n",
       "      <td>0.963074</td>\n",
       "    </tr>\n",
       "    <tr>\n",
       "      <th>KNN</th>\n",
       "      <td>0.974242</td>\n",
       "      <td>0.983402</td>\n",
       "      <td>0.988636</td>\n",
       "      <td>0.857645</td>\n",
       "    </tr>\n",
       "  </tbody>\n",
       "</table>\n",
       "</div>"
      ],
      "text/plain": [
       "       Sig Prec  All Prec  Sig Prot  All Prot\n",
       "Dummy  0.634146  0.634146  0.634146  0.634146\n",
       "GB     0.971093  0.823005  0.983402  0.954334\n",
       "SVC    0.963074  0.950899  0.936829  0.973806\n",
       "LR     0.963074  0.973806  0.963074  0.963074\n",
       "ET     0.983402  0.983402  0.963074  0.963074\n",
       "RF     0.937589  0.973806  0.963074  0.963074\n",
       "KNN    0.974242  0.983402  0.988636  0.857645"
      ]
     },
     "execution_count": 83,
     "metadata": {},
     "output_type": "execute_result"
    }
   ],
   "source": [
    "AUPR=pd.DataFrame.from_dict(AUPR)\n",
    "AUPR"
   ]
  },
  {
   "cell_type": "code",
   "execution_count": 84,
   "id": "1bcd5676-f3e9-4461-859d-bb59ad3274ce",
   "metadata": {},
   "outputs": [
    {
     "data": {
      "text/html": [
       "<div>\n",
       "<style scoped>\n",
       "    .dataframe tbody tr th:only-of-type {\n",
       "        vertical-align: middle;\n",
       "    }\n",
       "\n",
       "    .dataframe tbody tr th {\n",
       "        vertical-align: top;\n",
       "    }\n",
       "\n",
       "    .dataframe thead th {\n",
       "        text-align: right;\n",
       "    }\n",
       "</style>\n",
       "<table border=\"1\" class=\"dataframe\">\n",
       "  <thead>\n",
       "    <tr style=\"text-align: right;\">\n",
       "      <th></th>\n",
       "      <th>Sig Prec</th>\n",
       "      <th>All Prec</th>\n",
       "      <th>Sig Prot</th>\n",
       "      <th>All Prot</th>\n",
       "    </tr>\n",
       "  </thead>\n",
       "  <tbody>\n",
       "    <tr>\n",
       "      <th>Dummy</th>\n",
       "      <td>0.000000</td>\n",
       "      <td>0.000000</td>\n",
       "      <td>0.000000</td>\n",
       "      <td>0.000000</td>\n",
       "    </tr>\n",
       "    <tr>\n",
       "      <th>GB</th>\n",
       "      <td>0.875758</td>\n",
       "      <td>0.820348</td>\n",
       "      <td>0.941335</td>\n",
       "      <td>0.742818</td>\n",
       "    </tr>\n",
       "    <tr>\n",
       "      <th>SVC</th>\n",
       "      <td>0.941335</td>\n",
       "      <td>0.875758</td>\n",
       "      <td>0.941335</td>\n",
       "      <td>0.809770</td>\n",
       "    </tr>\n",
       "    <tr>\n",
       "      <th>LR</th>\n",
       "      <td>0.875758</td>\n",
       "      <td>0.875758</td>\n",
       "      <td>0.941335</td>\n",
       "      <td>0.875758</td>\n",
       "    </tr>\n",
       "    <tr>\n",
       "      <th>ET</th>\n",
       "      <td>0.809770</td>\n",
       "      <td>0.809770</td>\n",
       "      <td>0.875758</td>\n",
       "      <td>0.875758</td>\n",
       "    </tr>\n",
       "    <tr>\n",
       "      <th>RF</th>\n",
       "      <td>0.809770</td>\n",
       "      <td>0.809770</td>\n",
       "      <td>0.742818</td>\n",
       "      <td>0.742818</td>\n",
       "    </tr>\n",
       "    <tr>\n",
       "      <th>KNN</th>\n",
       "      <td>0.941335</td>\n",
       "      <td>0.941335</td>\n",
       "      <td>0.941335</td>\n",
       "      <td>0.941335</td>\n",
       "    </tr>\n",
       "  </tbody>\n",
       "</table>\n",
       "</div>"
      ],
      "text/plain": [
       "       Sig Prec  All Prec  Sig Prot  All Prot\n",
       "Dummy  0.000000  0.000000  0.000000  0.000000\n",
       "GB     0.875758  0.820348  0.941335  0.742818\n",
       "SVC    0.941335  0.875758  0.941335  0.809770\n",
       "LR     0.875758  0.875758  0.941335  0.875758\n",
       "ET     0.809770  0.809770  0.875758  0.875758\n",
       "RF     0.809770  0.809770  0.742818  0.742818\n",
       "KNN    0.941335  0.941335  0.941335  0.941335"
      ]
     },
     "execution_count": 84,
     "metadata": {},
     "output_type": "execute_result"
    }
   ],
   "source": [
    "MCC=pd.DataFrame.from_dict(MCC)\n",
    "MCC"
   ]
  },
  {
   "cell_type": "code",
   "execution_count": 85,
   "id": "5d2763f7-3f62-436a-84f1-1fd0b101e833",
   "metadata": {},
   "outputs": [
    {
     "data": {
      "text/html": [
       "<div>\n",
       "<style scoped>\n",
       "    .dataframe tbody tr th:only-of-type {\n",
       "        vertical-align: middle;\n",
       "    }\n",
       "\n",
       "    .dataframe tbody tr th {\n",
       "        vertical-align: top;\n",
       "    }\n",
       "\n",
       "    .dataframe thead th {\n",
       "        text-align: right;\n",
       "    }\n",
       "</style>\n",
       "<table border=\"1\" class=\"dataframe\">\n",
       "  <thead>\n",
       "    <tr style=\"text-align: right;\">\n",
       "      <th></th>\n",
       "      <th>Sig Prec</th>\n",
       "      <th>All Prec</th>\n",
       "      <th>Sig Prot</th>\n",
       "      <th>All Prot</th>\n",
       "    </tr>\n",
       "  </thead>\n",
       "  <tbody>\n",
       "    <tr>\n",
       "      <th>Dummy</th>\n",
       "      <td>0.000000</td>\n",
       "      <td>0.000000</td>\n",
       "      <td>0.000000</td>\n",
       "      <td>0.000000</td>\n",
       "    </tr>\n",
       "    <tr>\n",
       "      <th>GB</th>\n",
       "      <td>0.909091</td>\n",
       "      <td>0.833333</td>\n",
       "      <td>0.916667</td>\n",
       "      <td>0.888889</td>\n",
       "    </tr>\n",
       "    <tr>\n",
       "      <th>SVC</th>\n",
       "      <td>0.916667</td>\n",
       "      <td>0.909091</td>\n",
       "      <td>0.916667</td>\n",
       "      <td>0.900000</td>\n",
       "    </tr>\n",
       "    <tr>\n",
       "      <th>LR</th>\n",
       "      <td>0.909091</td>\n",
       "      <td>0.909091</td>\n",
       "      <td>0.916667</td>\n",
       "      <td>0.909091</td>\n",
       "    </tr>\n",
       "    <tr>\n",
       "      <th>ET</th>\n",
       "      <td>0.900000</td>\n",
       "      <td>0.900000</td>\n",
       "      <td>0.909091</td>\n",
       "      <td>0.909091</td>\n",
       "    </tr>\n",
       "    <tr>\n",
       "      <th>RF</th>\n",
       "      <td>0.900000</td>\n",
       "      <td>0.900000</td>\n",
       "      <td>0.888889</td>\n",
       "      <td>0.888889</td>\n",
       "    </tr>\n",
       "    <tr>\n",
       "      <th>KNN</th>\n",
       "      <td>0.916667</td>\n",
       "      <td>0.916667</td>\n",
       "      <td>0.916667</td>\n",
       "      <td>0.916667</td>\n",
       "    </tr>\n",
       "  </tbody>\n",
       "</table>\n",
       "</div>"
      ],
      "text/plain": [
       "       Sig Prec  All Prec  Sig Prot  All Prot\n",
       "Dummy  0.000000  0.000000  0.000000  0.000000\n",
       "GB     0.909091  0.833333  0.916667  0.888889\n",
       "SVC    0.916667  0.909091  0.916667  0.900000\n",
       "LR     0.909091  0.909091  0.916667  0.909091\n",
       "ET     0.900000  0.900000  0.909091  0.909091\n",
       "RF     0.900000  0.900000  0.888889  0.888889\n",
       "KNN    0.916667  0.916667  0.916667  0.916667"
      ]
     },
     "execution_count": 85,
     "metadata": {},
     "output_type": "execute_result"
    }
   ],
   "source": [
    "Precision=pd.DataFrame.from_dict(prec)\n",
    "Precision"
   ]
  },
  {
   "cell_type": "code",
   "execution_count": 86,
   "id": "d5c96344-8b0d-4b0b-babe-fb1742defa72",
   "metadata": {},
   "outputs": [
    {
     "data": {
      "text/plain": [
       "0.2682926829268293"
      ]
     },
     "execution_count": 86,
     "metadata": {},
     "output_type": "execute_result"
    }
   ],
   "source": [
    "no_skill = len(ytest[ytest==1]) / len(ytest)\n",
    "no_skill"
   ]
  },
  {
   "cell_type": "code",
   "execution_count": 87,
   "id": "f3b6d2b5-93fe-4238-98d8-e7c82fe46e09",
   "metadata": {
    "collapsed": true,
    "jupyter": {
     "outputs_hidden": true
    },
    "tags": []
   },
   "outputs": [
    {
     "name": "stdout",
     "output_type": "stream",
     "text": [
      "Requirement already satisfied: yellowbrick in c:\\users\\momenzadeha\\anaconda3\\lib\\site-packages (1.4)\n",
      "Requirement already satisfied: scipy>=1.0.0 in c:\\users\\momenzadeha\\anaconda3\\lib\\site-packages (from yellowbrick) (1.7.3)\n",
      "Requirement already satisfied: scikit-learn>=1.0.0 in c:\\users\\momenzadeha\\anaconda3\\lib\\site-packages (from yellowbrick) (1.1.1)\n",
      "Requirement already satisfied: matplotlib!=3.0.0,>=2.0.2 in c:\\users\\momenzadeha\\anaconda3\\lib\\site-packages (from yellowbrick) (3.5.1)\n",
      "Requirement already satisfied: numpy>=1.16.0 in c:\\users\\momenzadeha\\anaconda3\\lib\\site-packages (from yellowbrick) (1.19.5)\n",
      "Requirement already satisfied: cycler>=0.10.0 in c:\\users\\momenzadeha\\anaconda3\\lib\\site-packages (from yellowbrick) (0.11.0)\n",
      "Requirement already satisfied: python-dateutil>=2.7 in c:\\users\\momenzadeha\\anaconda3\\lib\\site-packages (from matplotlib!=3.0.0,>=2.0.2->yellowbrick) (2.8.2)\n",
      "Requirement already satisfied: fonttools>=4.22.0 in c:\\users\\momenzadeha\\anaconda3\\lib\\site-packages (from matplotlib!=3.0.0,>=2.0.2->yellowbrick) (4.25.0)\n",
      "Requirement already satisfied: pyparsing>=2.2.1 in c:\\users\\momenzadeha\\anaconda3\\lib\\site-packages (from matplotlib!=3.0.0,>=2.0.2->yellowbrick) (3.0.4)\n",
      "Requirement already satisfied: packaging>=20.0 in c:\\users\\momenzadeha\\anaconda3\\lib\\site-packages (from matplotlib!=3.0.0,>=2.0.2->yellowbrick) (21.3)\n",
      "Requirement already satisfied: pillow>=6.2.0 in c:\\users\\momenzadeha\\anaconda3\\lib\\site-packages (from matplotlib!=3.0.0,>=2.0.2->yellowbrick) (9.0.1)\n",
      "Requirement already satisfied: kiwisolver>=1.0.1 in c:\\users\\momenzadeha\\anaconda3\\lib\\site-packages (from matplotlib!=3.0.0,>=2.0.2->yellowbrick) (1.3.2)\n",
      "Requirement already satisfied: six>=1.5 in c:\\users\\momenzadeha\\anaconda3\\lib\\site-packages (from python-dateutil>=2.7->matplotlib!=3.0.0,>=2.0.2->yellowbrick) (1.16.0)\n",
      "Requirement already satisfied: threadpoolctl>=2.0.0 in c:\\users\\momenzadeha\\anaconda3\\lib\\site-packages (from scikit-learn>=1.0.0->yellowbrick) (2.2.0)\n",
      "Requirement already satisfied: joblib>=1.0.0 in c:\\users\\momenzadeha\\anaconda3\\lib\\site-packages (from scikit-learn>=1.0.0->yellowbrick) (1.1.0)\n",
      "Note: you may need to restart the kernel to use updated packages.\n"
     ]
    }
   ],
   "source": [
    "pip install yellowbrick"
   ]
  },
  {
   "cell_type": "code",
   "execution_count": 88,
   "id": "3c0f3d09-7cfe-49b7-9808-ff0e4faacfea",
   "metadata": {},
   "outputs": [
    {
     "data": {
      "text/plain": [
       "0    150\n",
       "1     52\n",
       "Name: Group, dtype: int64"
      ]
     },
     "execution_count": 88,
     "metadata": {},
     "output_type": "execute_result"
    }
   ],
   "source": [
    "prec_2_gr.Group.value_counts()"
   ]
  },
  {
   "cell_type": "code",
   "execution_count": 89,
   "id": "a949c261-bf21-4cfe-a2ea-8066bb0f04fa",
   "metadata": {},
   "outputs": [
    {
     "data": {
      "text/plain": [
       "0    30\n",
       "1    11\n",
       "Name: Group, dtype: int64"
      ]
     },
     "execution_count": 89,
     "metadata": {},
     "output_type": "execute_result"
    }
   ],
   "source": [
    "ytest.value_counts()"
   ]
  },
  {
   "cell_type": "code",
   "execution_count": 90,
   "id": "fb5fb650-baf2-4679-8e60-3698ae2f03ee",
   "metadata": {
    "tags": []
   },
   "outputs": [
    {
     "name": "stderr",
     "output_type": "stream",
     "text": [
      "X does not have valid feature names, but KNeighborsClassifier was fitted with feature names\n"
     ]
    },
    {
     "data": {
      "text/plain": [
       "<AxesSubplot:title={'center':'KNeighborsClassifier Classification Report'}>"
      ]
     },
     "execution_count": 90,
     "metadata": {},
     "output_type": "execute_result"
    },
    {
     "data": {
      "image/png": "[encoded data removed]",
      "text/plain": [
       "<Figure size 576x396 with 2 Axes>"
      ]
     },
     "metadata": {
      "image/png": {
       "height": 385,
       "width": 519
      }
     },
     "output_type": "display_data"
    }
   ],
   "source": [
    "from yellowbrick.classifier import ClassificationReport\n",
    "from yellowbrick.datasets import load_occupancy\n",
    "\n",
    "Xtrain, Xtest, ytrain, ytest = train_test_split(prot_bcorr, prec_2_gr.Group, \n",
    "                                                    random_state=42, test_size=0.2,\n",
    "                                                    stratify=prec_2_gr.Group) \n",
    "classes = [0,1]\n",
    "model=all_model_dict['All Prot']['KNN']\n",
    "visualizer=ClassificationReport(model, classes=classes, support=True)\n",
    "\n",
    "visualizer.fit(Xtrain, ytrain)        # Fit the visualizer and the model\n",
    "visualizer.score(Xtest, ytest)        # Evaluate the model on the test data\n",
    "for label in visualizer.ax.texts:\n",
    "    label.set_size(22)\n",
    "visualizer.ax.tick_params(labelsize=22)  # change size of tick labels\n",
    "visualizer.show(outpath=\"Fig2B_v2.svg\")  "
   ]
  },
  {
   "cell_type": "code",
   "execution_count": 91,
   "id": "e4cfbadb-10f6-4eaa-b210-b1d3b2f1eb8a",
   "metadata": {},
   "outputs": [
    {
     "name": "stderr",
     "output_type": "stream",
     "text": [
      "X does not have valid feature names, but GradientBoostingClassifier was fitted with feature names\n"
     ]
    },
    {
     "data": {
      "text/plain": [
       "<AxesSubplot:title={'center':'GradientBoostingClassifier Classification Report'}>"
      ]
     },
     "execution_count": 91,
     "metadata": {},
     "output_type": "execute_result"
    },
    {
     "data": {
      "image/png": "[encoded data removed]",
      "text/plain": [
       "<Figure size 576x396 with 2 Axes>"
      ]
     },
     "metadata": {
      "image/png": {
       "height": 385,
       "width": 519
      }
     },
     "output_type": "display_data"
    }
   ],
   "source": [
    "Xtrain, Xtest, ytrain, ytest = train_test_split(prec_bcorr, prec_2_gr.Group, \n",
    "                                                    random_state=42, test_size=0.2,\n",
    "                                                    stratify=prec_2_gr.Group) \n",
    "classes = [1,0]\n",
    "model=all_model_dict['All Prec']['GB']\n",
    "visualizer=ClassificationReport(model, classes=classes, support=True)\n",
    "\n",
    "visualizer.fit(Xtrain, ytrain)        # Fit the visualizer and the model\n",
    "visualizer.score(Xtest, ytest)        # Evaluate the model on the test data\n",
    "for label in visualizer.ax.texts:\n",
    "    label.set_size(22)\n",
    "visualizer.ax.tick_params(labelsize=22)  # change size of tick labels\n",
    "visualizer.show(outpath=\"Fig2C_v2.svg\")"
   ]
  },
  {
   "cell_type": "code",
   "execution_count": 97,
   "id": "0f1426b6-ad7b-4b20-a394-506fea41c116",
   "metadata": {},
   "outputs": [
    {
     "data": {
      "text/plain": [
       "<Figure size 720x648 with 0 Axes>"
      ]
     },
     "metadata": {},
     "output_type": "display_data"
    }
   ],
   "source": [
    "plt.clf() "
   ]
  },
  {
   "cell_type": "code",
   "execution_count": 103,
   "id": "4bad0cc6-af1e-4152-bf4c-f525cc41071a",
   "metadata": {},
   "outputs": [
    {
     "data": {
      "image/png": "[encoded data removed]",
      "text/plain": [
       "<Figure size 720x648 with 1 Axes>"
      ]
     },
     "metadata": {
      "image/png": {
       "height": 564,
       "width": 660
      }
     },
     "output_type": "display_data"
    }
   ],
   "source": [
    "plt.rcParams['figure.figsize']=10,9\n",
    "\n",
    "\n",
    "#sig prot\n",
    "model = all_model_dict['Sig Prot']['KNN']\n",
    "Xtrain, Xtest, ytrain, ytest = train_test_split(sig_prot_bcorr, prec_2_gr.Group, \n",
    "                                                    random_state=42, test_size=0.2,\n",
    "                                                    stratify=prec_2_gr.Group) \n",
    "ypred = model.predict(Xtest)\n",
    "probs = model.predict_proba(Xtest)\n",
    "pos_probs = probs[:, 1]\n",
    "precision, recall, _ = precision_recall_curve(ytest, pos_probs)\n",
    "pyplot.plot(recall, precision, marker='.', markersize=15, linewidth=3, color='#4daf4a',\n",
    "            label='Significant Proteins (PR AUC=0.99)')\n",
    "\n",
    "\n",
    "#all prot\n",
    "model = all_model_dict['All Prot']['KNN']\n",
    "Xtrain, Xtest, ytrain, ytest = train_test_split(prot_bcorr, prec_2_gr.Group, \n",
    "                                                    random_state=42, test_size=0.2,\n",
    "                                                    stratify=prec_2_gr.Group) \n",
    "ypred = model.predict(Xtest)\n",
    "probs = model.predict_proba(Xtest)\n",
    "pos_probs = probs[:, 1]\n",
    "precision, recall, _ = precision_recall_curve(ytest, pos_probs)\n",
    "pyplot.plot(recall, precision, marker='.', markersize=15,linewidth=3, color='#e41a1c',\n",
    "            label='All Proteins (PR AUC=0.86)')\n",
    "\n",
    "\n",
    "\n",
    "#sig prec\n",
    "model = all_model_dict['Sig Prec']['SVC']\n",
    "Xtrain, Xtest, ytrain, ytest = train_test_split(sig_prec_bcorr, prec_2_gr.Group, \n",
    "                                                    random_state=42, test_size=0.2,\n",
    "                                                    stratify=prec_2_gr.Group) \n",
    "ypred = model.predict(Xtest)\n",
    "probs = model.predict_proba(Xtest)\n",
    "pos_probs = probs[:, 1]\n",
    "precision, recall, _ = precision_recall_curve(ytest, pos_probs)\n",
    "pyplot.plot(recall, precision, marker='.', markersize=15, linewidth=3, color='#377eb8',\n",
    "            label='Significant Peptides (PR AUC=0.96)')\n",
    "\n",
    "#all prec\n",
    "model = all_model_dict['All Prec']['GB']\n",
    "Xtrain, Xtest, ytrain, ytest = train_test_split(prec_bcorr, prec_2_gr.Group, \n",
    "                                                    random_state=42, test_size=0.2,\n",
    "                                                    stratify=prec_2_gr.Group) \n",
    "ypred = model.predict(Xtest)\n",
    "probs = model.predict_proba(Xtest)\n",
    "pos_probs = probs[:, 1]\n",
    "precision, recall, _ = precision_recall_curve(ytest, pos_probs)\n",
    "pyplot.plot(recall, precision, linewidth=3, marker='.', markersize=15,color= '#ff7f00',\n",
    "            label='All Peptides (PR AUC=0.82)')\n",
    "#no skill line\n",
    "no_skill = len(ytest[ytest==1]) / len(ytest)\n",
    "pyplot.plot([0, 1], [no_skill, no_skill], linestyle='--', linewidth=3, color='black',\n",
    "            label='No Skill (PR AUC=0.27)')\n",
    "\n",
    "# axis labels\n",
    "pyplot.xlabel('Recall', fontsize=30)\n",
    "pyplot.ylabel('Precision', fontsize=30)\n",
    "plt.xticks(fontsize=24)\n",
    "plt.yticks(fontsize=24)\n",
    "plt.xlim([-0.01, 1.])\n",
    "plt.ylim([0.0, 1.05])\n",
    "\n",
    "pyplot.legend(fontsize=20, loc='center right', bbox_to_anchor=(1, 0.45), frameon=True)\n",
    "plt.grid(False)\n",
    "plt.savefig('Fig2A_v2.svg',bbox_inches='tight')\n",
    "pyplot.show()"
   ]
  },
  {
   "cell_type": "markdown",
   "id": "64a6c0c5-50b2-44ee-bfb0-2708021ae68a",
   "metadata": {
    "tags": []
   },
   "source": [
    "### 6. Scatterplot Disease v Control - F1 vs MCC"
   ]
  },
  {
   "cell_type": "code",
   "execution_count": 1,
   "id": "abbed46c-bb12-4dc5-a513-c179c9043ff3",
   "metadata": {},
   "outputs": [],
   "source": [
    "data = {'MCC': [0,0.809770,0.875758,0.809770,0.941335,0.941335,0.875758,0,0.875758,\n",
    "               0.941335,0.742818,0.941335,0.941335,0.941335],\n",
    "        'F1': [0,0.857143,0.909091,0.857143,0.956522,0.956522,0.909091,0,0.909091,0.956522,\n",
    "              0.800000,0.956522,0.956522,0.956522],\n",
    "        'Type': ['Significant Peptide','Significant Peptide','Significant Peptide','Significant Peptide','Significant Peptide','Significant Peptide','Significant Peptide',\n",
    "                'Significant Protein','Significant Protein','Significant Protein','Significant Protein','Significant Protein','Significant Protein','Significant Protein'],\n",
    "        'Model': ['Dummy','ET','GB', 'RF', 'SVC','KNN', 'LR',\n",
    "                 'Dummy','ET','GB','RF', 'SVC','KNN', 'LR']}"
   ]
  },
  {
   "cell_type": "code",
   "execution_count": 4,
   "id": "89abca1e-5be4-4d65-9fcf-958e1a4fd01a",
   "metadata": {},
   "outputs": [],
   "source": [
    "DvC = pd.DataFrame(data)"
   ]
  },
  {
   "cell_type": "code",
   "execution_count": 5,
   "id": "bc5c206d-1ca3-4852-8a40-28e8fd5255d5",
   "metadata": {},
   "outputs": [
    {
     "data": {
      "text/html": [
       "<div>\n",
       "<style scoped>\n",
       "    .dataframe tbody tr th:only-of-type {\n",
       "        vertical-align: middle;\n",
       "    }\n",
       "\n",
       "    .dataframe tbody tr th {\n",
       "        vertical-align: top;\n",
       "    }\n",
       "\n",
       "    .dataframe thead th {\n",
       "        text-align: right;\n",
       "    }\n",
       "</style>\n",
       "<table border=\"1\" class=\"dataframe\">\n",
       "  <thead>\n",
       "    <tr style=\"text-align: right;\">\n",
       "      <th></th>\n",
       "      <th>MCC</th>\n",
       "      <th>F1</th>\n",
       "      <th>Type</th>\n",
       "      <th>Model</th>\n",
       "    </tr>\n",
       "  </thead>\n",
       "  <tbody>\n",
       "    <tr>\n",
       "      <th>0</th>\n",
       "      <td>0.000000</td>\n",
       "      <td>0.000000</td>\n",
       "      <td>Significant Peptide</td>\n",
       "      <td>Dummy</td>\n",
       "    </tr>\n",
       "    <tr>\n",
       "      <th>1</th>\n",
       "      <td>0.809770</td>\n",
       "      <td>0.857143</td>\n",
       "      <td>Significant Peptide</td>\n",
       "      <td>ET</td>\n",
       "    </tr>\n",
       "    <tr>\n",
       "      <th>2</th>\n",
       "      <td>0.875758</td>\n",
       "      <td>0.909091</td>\n",
       "      <td>Significant Peptide</td>\n",
       "      <td>GB</td>\n",
       "    </tr>\n",
       "    <tr>\n",
       "      <th>3</th>\n",
       "      <td>0.809770</td>\n",
       "      <td>0.857143</td>\n",
       "      <td>Significant Peptide</td>\n",
       "      <td>RF</td>\n",
       "    </tr>\n",
       "    <tr>\n",
       "      <th>4</th>\n",
       "      <td>0.941335</td>\n",
       "      <td>0.956522</td>\n",
       "      <td>Significant Peptide</td>\n",
       "      <td>SVC</td>\n",
       "    </tr>\n",
       "    <tr>\n",
       "      <th>5</th>\n",
       "      <td>0.941335</td>\n",
       "      <td>0.956522</td>\n",
       "      <td>Significant Peptide</td>\n",
       "      <td>KNN</td>\n",
       "    </tr>\n",
       "    <tr>\n",
       "      <th>6</th>\n",
       "      <td>0.875758</td>\n",
       "      <td>0.909091</td>\n",
       "      <td>Significant Peptide</td>\n",
       "      <td>LR</td>\n",
       "    </tr>\n",
       "    <tr>\n",
       "      <th>7</th>\n",
       "      <td>0.000000</td>\n",
       "      <td>0.000000</td>\n",
       "      <td>Significant Protein</td>\n",
       "      <td>Dummy</td>\n",
       "    </tr>\n",
       "    <tr>\n",
       "      <th>8</th>\n",
       "      <td>0.875758</td>\n",
       "      <td>0.909091</td>\n",
       "      <td>Significant Protein</td>\n",
       "      <td>ET</td>\n",
       "    </tr>\n",
       "    <tr>\n",
       "      <th>9</th>\n",
       "      <td>0.941335</td>\n",
       "      <td>0.956522</td>\n",
       "      <td>Significant Protein</td>\n",
       "      <td>GB</td>\n",
       "    </tr>\n",
       "    <tr>\n",
       "      <th>10</th>\n",
       "      <td>0.742818</td>\n",
       "      <td>0.800000</td>\n",
       "      <td>Significant Protein</td>\n",
       "      <td>RF</td>\n",
       "    </tr>\n",
       "    <tr>\n",
       "      <th>11</th>\n",
       "      <td>0.941335</td>\n",
       "      <td>0.956522</td>\n",
       "      <td>Significant Protein</td>\n",
       "      <td>SVC</td>\n",
       "    </tr>\n",
       "    <tr>\n",
       "      <th>12</th>\n",
       "      <td>0.941335</td>\n",
       "      <td>0.956522</td>\n",
       "      <td>Significant Protein</td>\n",
       "      <td>KNN</td>\n",
       "    </tr>\n",
       "    <tr>\n",
       "      <th>13</th>\n",
       "      <td>0.941335</td>\n",
       "      <td>0.956522</td>\n",
       "      <td>Significant Protein</td>\n",
       "      <td>LR</td>\n",
       "    </tr>\n",
       "  </tbody>\n",
       "</table>\n",
       "</div>"
      ],
      "text/plain": [
       "         MCC        F1                 Type  Model\n",
       "0   0.000000  0.000000  Significant Peptide  Dummy\n",
       "1   0.809770  0.857143  Significant Peptide     ET\n",
       "2   0.875758  0.909091  Significant Peptide     GB\n",
       "3   0.809770  0.857143  Significant Peptide     RF\n",
       "4   0.941335  0.956522  Significant Peptide    SVC\n",
       "5   0.941335  0.956522  Significant Peptide    KNN\n",
       "6   0.875758  0.909091  Significant Peptide     LR\n",
       "7   0.000000  0.000000  Significant Protein  Dummy\n",
       "8   0.875758  0.909091  Significant Protein     ET\n",
       "9   0.941335  0.956522  Significant Protein     GB\n",
       "10  0.742818  0.800000  Significant Protein     RF\n",
       "11  0.941335  0.956522  Significant Protein    SVC\n",
       "12  0.941335  0.956522  Significant Protein    KNN\n",
       "13  0.941335  0.956522  Significant Protein     LR"
      ]
     },
     "execution_count": 5,
     "metadata": {},
     "output_type": "execute_result"
    }
   ],
   "source": [
    "DvC"
   ]
  },
  {
   "cell_type": "code",
   "execution_count": 6,
   "id": "e4b38309-06e3-4ec7-9d9b-520e1676a51d",
   "metadata": {},
   "outputs": [
    {
     "data": {
      "image/png": "[encoded data removed]",
      "text/plain": [
       "<Figure size 576x648 with 1 Axes>"
      ]
     },
     "metadata": {
      "needs_background": "light"
     },
     "output_type": "display_data"
    }
   ],
   "source": [
    "plt.rcParams['figure.figsize']=8,9\n",
    "ax=sns.scatterplot(data=DvC, x=\"Model\", y=\"F1\", hue=\"Model\", style='Type', s=300)\n",
    "ax.legend(fontsize=20, bbox_to_anchor=(1, 0.35), loc='center right',markerscale=2)\n",
    "plt.xticks(fontsize=18)\n",
    "plt.yticks(fontsize=18)\n",
    "plt.ylabel('F1', fontsize=30)\n",
    "plt.xlabel('Model', fontsize=30)\n",
    "plt.ylim(-0.03,1)\n",
    "#ax.set_title(\"DvC - All Peptides vs All Proteins\", fontsize=24)\n",
    "plt.savefig('Fig2D_v2.svg',bbox_inches='tight')"
   ]
  },
  {
   "cell_type": "code",
   "execution_count": 7,
   "id": "1a1fd24b-27cd-43d3-81ed-e3d9360a1fdf",
   "metadata": {},
   "outputs": [
    {
     "data": {
      "image/png": "[encoded data removed]",
      "text/plain": [
       "<Figure size 576x648 with 1 Axes>"
      ]
     },
     "metadata": {
      "needs_background": "light"
     },
     "output_type": "display_data"
    }
   ],
   "source": [
    "plt.rcParams['figure.figsize']=8,9\n",
    "ax=sns.scatterplot(data=DvC, x=\"Model\", y=\"MCC\", hue=\"Model\", style='Type', s=300)\n",
    "ax.legend(fontsize=20, bbox_to_anchor=(1, 0.35), loc='center right',markerscale=2)\n",
    "plt.xticks(fontsize=18)\n",
    "plt.yticks(fontsize=18)\n",
    "plt.ylabel('MCC', fontsize=30)\n",
    "plt.xlabel('Model', fontsize=30)\n",
    "plt.ylim(-0.03,1)\n",
    "#ax.set_title(\"DvC - All Peptides vs All Proteins\", fontsize=24)\n",
    "plt.savefig('Fig2E_v2.svg',bbox_inches='tight')"
   ]
  }
 ],
 "metadata": {
  "kernelspec": {
   "display_name": "base",
   "language": "python",
   "name": "base"
  },
  "language_info": {
   "codemirror_mode": {
    "name": "ipython",
    "version": 3
   },
   "file_extension": ".py",
   "mimetype": "text/x-python",
   "name": "python",
   "nbconvert_exporter": "python",
   "pygments_lexer": "ipython3",
   "version": "3.9.12"
  }
 },
 "nbformat": 4,
 "nbformat_minor": 5
}
