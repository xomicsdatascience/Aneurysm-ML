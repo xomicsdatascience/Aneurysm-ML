{
 "cells": [
  {
   "cell_type": "markdown",
   "id": "25198e6c-5b18-4a5d-890e-fdd8e21d81a1",
   "metadata": {
    "tags": []
   },
   "source": [
    "### 1. Import packages"
   ]
  },
  {
   "cell_type": "code",
   "execution_count": 1,
   "id": "cb7cd667-cc15-4b2a-aaa1-f75324dc1ee6",
   "metadata": {
    "tags": []
   },
   "outputs": [],
   "source": [
    "#!conda install --yes -c conda-forge umap-learn\n",
    "#!pip install umap-learn\n",
    "#!pip install \"umap-learn[plot]\"\n",
    "#!pip install scikit-multilearn\n",
    "#!pip install imbalanced-learn\n",
    "#!pip install shap"
   ]
  },
  {
   "cell_type": "code",
   "execution_count": 2,
   "id": "159c4bac-2670-4d56-a3f2-c77e6639e000",
   "metadata": {
    "tags": []
   },
   "outputs": [],
   "source": [
    "from numpy import mean\n",
    "from numpy import absolute\n",
    "from numpy import sqrt\n",
    "import pandas as pd\n",
    "import numpy as np\n",
    "\n",
    "import matplotlib\n",
    "import matplotlib.pyplot as plt\n",
    "%matplotlib inline\n",
    "import seaborn as sns\n",
    "import scipy as sp\n",
    "import sklearn as sk\n",
    "\n",
    "import sklearn.metrics as metrics\n",
    "import os\n",
    "import pickle\n",
    "\n",
    "from matplotlib import pyplot\n",
    "from matplotlib.pyplot import figure\n",
    "import matplotlib.patches as mpatches\n",
    "import matplotlib.pyplot as plt\n",
    "from matplotlib import rcParams\n",
    "\n",
    "from sklearn.metrics import accuracy_score\n",
    "from sklearn.metrics import recall_score\n",
    "from sklearn.metrics import precision_score\n",
    "from sklearn.metrics import f1_score\n",
    "from sklearn.metrics import roc_curve\n",
    "from sklearn.metrics import roc_auc_score\n",
    "from sklearn.metrics import precision_recall_curve\n",
    "from sklearn.metrics import auc\n",
    "from sklearn.metrics import average_precision_score\n",
    "from sklearn.metrics import balanced_accuracy_score\n",
    "\n",
    "from sklearn.model_selection import RandomizedSearchCV\n",
    "from sklearn.model_selection import train_test_split\n",
    "from sklearn.linear_model import LogisticRegression\n",
    "from sklearn.dummy import DummyClassifier\n",
    "from sklearn.ensemble import RandomForestClassifier\n",
    "from sklearn.ensemble import ExtraTreesClassifier\n",
    "from sklearn.ensemble import AdaBoostClassifier\n",
    "from sklearn.ensemble import GradientBoostingClassifier\n",
    "from sklearn.svm import SVC\n",
    "from sklearn.neighbors import KNeighborsClassifier\n",
    "from sklearn.tree import DecisionTreeClassifier\n",
    "from sklearn.preprocessing import StandardScaler\n",
    "from sklearn.preprocessing import MinMaxScaler"
   ]
  },
  {
   "cell_type": "code",
   "execution_count": 3,
   "id": "08aa0421-7b4f-4547-b00d-37877e2d967e",
   "metadata": {},
   "outputs": [],
   "source": [
    "import umap\n",
    "from umap import UMAP\n",
    "import plotly.express as px\n",
    "from statsmodels.stats.multitest import multipletests\n",
    "import scipy.stats as stats\n",
    "#import statsmodels.api as sm\n",
    "from statsmodels.formula.api import ols\n",
    "import random"
   ]
  },
  {
   "cell_type": "code",
   "execution_count": 4,
   "id": "6166a6c8-a295-4d4a-b5ea-cb68b20a7622",
   "metadata": {},
   "outputs": [],
   "source": [
    "plt.style.use('ggplot')\n",
    "import itertools   "
   ]
  },
  {
   "cell_type": "code",
   "execution_count": 5,
   "id": "d4bc6b83-56b3-478a-93aa-7848fa48b7bc",
   "metadata": {},
   "outputs": [],
   "source": [
    "import plotly.graph_objects as go\n",
    "import plotly.express as px"
   ]
  },
  {
   "cell_type": "code",
   "execution_count": 6,
   "id": "bf46948f-eb74-412a-8d71-62f09f71f05b",
   "metadata": {},
   "outputs": [],
   "source": [
    "from combat.pycombat import pycombat"
   ]
  },
  {
   "cell_type": "code",
   "execution_count": null,
   "id": "7631b933-d3e2-40fb-b447-23af004fbc98",
   "metadata": {},
   "outputs": [],
   "source": [
    "from sklearn.cross_decomposition import PLSRegression"
   ]
  },
  {
   "cell_type": "code",
   "execution_count": 7,
   "id": "66f6281d-8cf8-4807-8ae7-7e08e4f41323",
   "metadata": {},
   "outputs": [],
   "source": [
    "import pylab \n",
    "import scipy.stats as stats"
   ]
  },
  {
   "cell_type": "code",
   "execution_count": 8,
   "id": "b6be9c25-8139-4485-8066-9845503a450b",
   "metadata": {},
   "outputs": [],
   "source": [
    "sns.set(style='white', context='notebook', rc={'figure.figsize':(7,5)})"
   ]
  },
  {
   "cell_type": "markdown",
   "id": "83d2c065-8707-4a30-9209-7c5f2da05aba",
   "metadata": {
    "tags": []
   },
   "source": [
    "### 2. Read in peptides (Precursor.Id rows)"
   ]
  },
  {
   "cell_type": "code",
   "execution_count": 9,
   "id": "34bbf02d-42db-4dc7-91ec-f39e2f3cfc76",
   "metadata": {},
   "outputs": [],
   "source": [
    "prot_group = pd.read_csv(r'C:\\\\Users\\\\momenzadeha\\\\Documents\\aneurysm_study\\LeonFine_ProteinGroup_GFlibrary_DIANN.csv',index_col=0)"
   ]
  },
  {
   "cell_type": "code",
   "execution_count": 10,
   "id": "3392fcb4-d033-4fa8-9846-f8e55aea4f8f",
   "metadata": {},
   "outputs": [],
   "source": [
    "meta = pd.read_csv(r'C:\\\\Users\\\\momenzadeha\\\\Documents\\aneurysm_study\\LF_MetaData.csv',index_col=0)"
   ]
  },
  {
   "cell_type": "code",
   "execution_count": 11,
   "id": "58c7bd47-17db-45e5-b415-50adb2d8c010",
   "metadata": {},
   "outputs": [],
   "source": [
    "batches = pd.read_csv(r'C:\\\\Users\\\\momenzadeha\\\\Documents\\aneurysm_study\\batches.csv', index_col=0)"
   ]
  },
  {
   "cell_type": "markdown",
   "id": "0b03352b-c539-4e48-8157-b9ccbe08cd9e",
   "metadata": {
    "tags": []
   },
   "source": [
    "### 3. Clean Protein and Meta Data"
   ]
  },
  {
   "cell_type": "code",
   "execution_count": 12,
   "id": "86af3493-d07f-4e02-80d0-c9e487ea586a",
   "metadata": {},
   "outputs": [
    {
     "data": {
      "text/plain": [
       "(215, 357)"
      ]
     },
     "execution_count": 12,
     "metadata": {},
     "output_type": "execute_result"
    }
   ],
   "source": [
    "prot_group.shape"
   ]
  },
  {
   "cell_type": "code",
   "execution_count": 13,
   "id": "c0975ae1-b6c4-40eb-9900-8fd68a88bc1e",
   "metadata": {},
   "outputs": [
    {
     "data": {
      "text/plain": [
       "TYPE B            78\n",
       "DTAA              68\n",
       "ControlHealthy    28\n",
       "ControlCAD        24\n",
       "BDTAA             17\n",
       "Name: Group, dtype: int64"
      ]
     },
     "execution_count": 13,
     "metadata": {},
     "output_type": "execute_result"
    }
   ],
   "source": [
    "prot_group.Group.value_counts()"
   ]
  },
  {
   "cell_type": "code",
   "execution_count": 14,
   "id": "07fb9f3d",
   "metadata": {},
   "outputs": [],
   "source": [
    "prot_out=prot_group[['Group']]"
   ]
  },
  {
   "cell_type": "code",
   "execution_count": 15,
   "id": "dee11753-b429-4947-b23b-ed935d087026",
   "metadata": {},
   "outputs": [
    {
     "data": {
      "text/plain": [
       "(215, 1)"
      ]
     },
     "execution_count": 15,
     "metadata": {},
     "output_type": "execute_result"
    }
   ],
   "source": [
    "prot_out.shape"
   ]
  },
  {
   "cell_type": "code",
   "execution_count": 16,
   "id": "55e427e0",
   "metadata": {},
   "outputs": [],
   "source": [
    "#216 plasma samples\n",
    "#DTAA - descending aortic aneurysm\n",
    "#Type B - dissection only\n",
    "#BDTAA - mixed aneurysm & dissection\n",
    "#Control Healthy - no CAD\n",
    "#Control CAD - asx CAD (RF for DTAA)"
   ]
  },
  {
   "cell_type": "code",
   "execution_count": 17,
   "id": "3312a7ef-4fd6-497b-9ce6-4a6ff9e7053e",
   "metadata": {},
   "outputs": [],
   "source": [
    "sns.set(style='white', context='notebook', rc={'figure.figsize':(7,5)})"
   ]
  },
  {
   "cell_type": "code",
   "execution_count": 18,
   "id": "4f7b7628",
   "metadata": {},
   "outputs": [],
   "source": [
    "#drop cols where at least 1 element is missing\n",
    "prot_drop=prot_group.dropna(axis=1)"
   ]
  },
  {
   "cell_type": "code",
   "execution_count": 19,
   "id": "f3910ac3",
   "metadata": {},
   "outputs": [
    {
     "data": {
      "text/plain": [
       "(215, 235)"
      ]
     },
     "execution_count": 19,
     "metadata": {},
     "output_type": "execute_result"
    }
   ],
   "source": [
    "prot_drop.shape"
   ]
  },
  {
   "cell_type": "code",
   "execution_count": 20,
   "id": "96e433a3-1886-455c-91bd-cf5842f39290",
   "metadata": {},
   "outputs": [
    {
     "data": {
      "text/plain": [
       "212"
      ]
     },
     "execution_count": 20,
     "metadata": {},
     "output_type": "execute_result"
    }
   ],
   "source": [
    "len(prot_drop.index.unique())"
   ]
  },
  {
   "cell_type": "code",
   "execution_count": 21,
   "id": "20094fca",
   "metadata": {},
   "outputs": [],
   "source": [
    "prot_all=prot_drop.copy()"
   ]
  },
  {
   "cell_type": "code",
   "execution_count": null,
   "id": "4600aae4-0a1c-4973-9e39-394c05adc471",
   "metadata": {},
   "outputs": [],
   "source": [
    "#find duplicate rows + drop 4 samples who had duplicate rows \n",
    "prot_drop[prot_drop.index.duplicated(keep=False)]\n",
    "#code removed due to PHI"
   ]
  },
  {
   "cell_type": "code",
   "execution_count": 23,
   "id": "695e356b",
   "metadata": {},
   "outputs": [
    {
     "data": {
      "text/plain": [
       "(208, 235)"
      ]
     },
     "execution_count": 23,
     "metadata": {},
     "output_type": "execute_result"
    }
   ],
   "source": [
    "prot_all.shape "
   ]
  },
  {
   "cell_type": "code",
   "execution_count": 24,
   "id": "7398ff95",
   "metadata": {},
   "outputs": [
    {
     "data": {
      "text/plain": [
       "208"
      ]
     },
     "execution_count": 24,
     "metadata": {},
     "output_type": "execute_result"
    }
   ],
   "source": [
    "len(prot_all.index.unique())"
   ]
  },
  {
   "cell_type": "code",
   "execution_count": 25,
   "id": "9d2d8010-43fd-4cae-b0f5-02f08a197180",
   "metadata": {
    "tags": []
   },
   "outputs": [],
   "source": [
    "prot_all[['Group']] = prot_all[['Group']].replace(['TYPE B'], [0])"
   ]
  },
  {
   "cell_type": "code",
   "execution_count": 26,
   "id": "627d00c5-7d02-4dae-9bdd-70450c59179e",
   "metadata": {},
   "outputs": [],
   "source": [
    "prot_all[['Group']] = prot_all[['Group']].replace(['DTAA'], [1])"
   ]
  },
  {
   "cell_type": "code",
   "execution_count": 27,
   "id": "274e2607-75f5-4ca7-a8f9-a308c2145f4c",
   "metadata": {},
   "outputs": [],
   "source": [
    "prot_all[['Group']] = prot_all[['Group']].replace(['ControlHealthy'], [2])"
   ]
  },
  {
   "cell_type": "code",
   "execution_count": 28,
   "id": "c5d53398-3932-43b0-89fd-505bc1e0c9e0",
   "metadata": {},
   "outputs": [],
   "source": [
    "prot_all[['Group']] = prot_all[['Group']].replace(['ControlCAD'], [3])"
   ]
  },
  {
   "cell_type": "code",
   "execution_count": 29,
   "id": "83e7e709-1d58-45c6-b3ee-ff462d6c2c28",
   "metadata": {},
   "outputs": [],
   "source": [
    "prot_all[['Group']] = prot_all[['Group']].replace(['BDTAA'], [4])"
   ]
  },
  {
   "cell_type": "markdown",
   "id": "f457f167-0fc6-4ab1-a54e-727e641e3a34",
   "metadata": {},
   "source": [
    "#### Clean meta data"
   ]
  },
  {
   "cell_type": "code",
   "execution_count": 30,
   "id": "d02ca76e-52b0-459c-acb8-6fff9b4cae77",
   "metadata": {},
   "outputs": [],
   "source": [
    "# drop rows with at least 1 NaN \n",
    "meta_drop=meta.dropna()"
   ]
  },
  {
   "cell_type": "code",
   "execution_count": 31,
   "id": "993573cd-343e-4d37-ad43-145b26a9d316",
   "metadata": {},
   "outputs": [
    {
     "data": {
      "text/plain": [
       "214"
      ]
     },
     "execution_count": 31,
     "metadata": {},
     "output_type": "execute_result"
    }
   ],
   "source": [
    "len(meta_drop.index.unique())"
   ]
  },
  {
   "cell_type": "code",
   "execution_count": 32,
   "id": "5db9ea9e-f5d7-4f82-b1e3-1f2eeb7b66f4",
   "metadata": {},
   "outputs": [
    {
     "data": {
      "text/plain": [
       "216"
      ]
     },
     "execution_count": 32,
     "metadata": {},
     "output_type": "execute_result"
    }
   ],
   "source": [
    "len(meta_drop)"
   ]
  },
  {
   "cell_type": "code",
   "execution_count": 1,
   "id": "2b1856ea-e7ef-431a-9ac7-627faf076147",
   "metadata": {},
   "outputs": [],
   "source": [
    "#find duplicate rows\n",
    "#meta_drop[meta_drop.index.duplicated(keep=False)]"
   ]
  },
  {
   "cell_type": "code",
   "execution_count": 35,
   "id": "e4a8be01-a8b7-452f-b58d-4ff870e1aba8",
   "metadata": {},
   "outputs": [
    {
     "data": {
      "text/plain": [
       "210"
      ]
     },
     "execution_count": 35,
     "metadata": {},
     "output_type": "execute_result"
    }
   ],
   "source": [
    "len(meta_drop.index.unique())"
   ]
  },
  {
   "cell_type": "code",
   "execution_count": 36,
   "id": "f480b208-c801-4a5e-b0a6-a9e78713c042",
   "metadata": {},
   "outputs": [
    {
     "data": {
      "text/plain": [
       "210"
      ]
     },
     "execution_count": 36,
     "metadata": {},
     "output_type": "execute_result"
    }
   ],
   "source": [
    "len(meta_drop)"
   ]
  },
  {
   "cell_type": "code",
   "execution_count": 37,
   "id": "3bc78549-58dc-4e5c-bbb4-71d173e37583",
   "metadata": {},
   "outputs": [],
   "source": [
    "meta_all=meta_drop.copy()"
   ]
  },
  {
   "cell_type": "code",
   "execution_count": 38,
   "id": "974294d0-7f2c-4b26-81e9-73e72e18e6cf",
   "metadata": {},
   "outputs": [
    {
     "data": {
      "text/plain": [
       "DTAA              62\n",
       "TypeB             56\n",
       "ControlCAD        30\n",
       "ControlHealthy    30\n",
       "TYPE B            19\n",
       "BDTAA             13\n",
       "Name: Group, dtype: int64"
      ]
     },
     "execution_count": 38,
     "metadata": {},
     "output_type": "execute_result"
    }
   ],
   "source": [
    "meta_all.Group.value_counts()"
   ]
  },
  {
   "cell_type": "code",
   "execution_count": 39,
   "id": "15c34da9-d224-4975-9c67-60334f932f55",
   "metadata": {
    "tags": []
   },
   "outputs": [],
   "source": [
    "meta_all[['Group']] = meta_all[['Group']].replace(['TYPE B'], [0])"
   ]
  },
  {
   "cell_type": "code",
   "execution_count": 40,
   "id": "d8a987ff-d4c1-4606-b310-f2be37f0061d",
   "metadata": {},
   "outputs": [],
   "source": [
    "meta_all[['Group']] = meta_all[['Group']].replace(['TypeB'], [0])"
   ]
  },
  {
   "cell_type": "code",
   "execution_count": 41,
   "id": "0a2a235a-1b78-478c-b5b7-bde0786dd1e7",
   "metadata": {},
   "outputs": [],
   "source": [
    "meta_all[['Group']] = meta_all[['Group']].replace(['DTAA'], [1])"
   ]
  },
  {
   "cell_type": "code",
   "execution_count": 42,
   "id": "cb9fe42c-6389-48fa-abf8-1932001f96a6",
   "metadata": {},
   "outputs": [],
   "source": [
    "meta_all[['Group']] = meta_all[['Group']].replace(['ControlHealthy'], [2])"
   ]
  },
  {
   "cell_type": "code",
   "execution_count": 43,
   "id": "eda18f5f-8eaf-40bc-9a21-bfe9188a2481",
   "metadata": {},
   "outputs": [],
   "source": [
    "meta_all[['Group']] = meta_all[['Group']].replace(['ControlCAD'], [3])"
   ]
  },
  {
   "cell_type": "code",
   "execution_count": 44,
   "id": "c1049783-cdcf-477e-96e5-9fa3de0b6670",
   "metadata": {},
   "outputs": [],
   "source": [
    "meta_all[['Group']] = meta_all[['Group']].replace(['BDTAA'], [4])"
   ]
  },
  {
   "cell_type": "code",
   "execution_count": 45,
   "id": "fa6abfec-185a-418a-a5a4-c7335d6559b0",
   "metadata": {},
   "outputs": [
    {
     "data": {
      "text/plain": [
       "EDTA-K2                  165\n",
       "Acid Citrate Dextrose     43\n",
       "Heparin                    2\n",
       "Name: Collection Tube, dtype: int64"
      ]
     },
     "execution_count": 45,
     "metadata": {},
     "output_type": "execute_result"
    }
   ],
   "source": [
    "meta_all['Collection Tube'].value_counts()"
   ]
  },
  {
   "cell_type": "code",
   "execution_count": 46,
   "id": "71df5c3d-152f-40a2-a013-3dc38a52f822",
   "metadata": {},
   "outputs": [
    {
     "data": {
      "text/plain": [
       "MALE      120\n",
       "FEMALE     90\n",
       "Name: Sex, dtype: int64"
      ]
     },
     "execution_count": 46,
     "metadata": {},
     "output_type": "execute_result"
    }
   ],
   "source": [
    "meta_all['Sex'].value_counts()"
   ]
  },
  {
   "cell_type": "code",
   "execution_count": 47,
   "id": "5cb28f31-b4bb-469b-8473-6094673724af",
   "metadata": {},
   "outputs": [
    {
     "data": {
      "text/plain": [
       "CAUCASIAN                 82\n",
       "AFRICAN AMERICAN/BLACK    64\n",
       "Caucasian                 32\n",
       "HISPANIC/LATINO           21\n",
       "Hispanic/Latino            7\n",
       "Asian/Pacific Islander     1\n",
       "0                          1\n",
       "OTHER (SPECIFY)            1\n",
       "ASIAN                      1\n",
       "Name: Race, dtype: int64"
      ]
     },
     "execution_count": 47,
     "metadata": {},
     "output_type": "execute_result"
    }
   ],
   "source": [
    "meta_all['Race'].value_counts()"
   ]
  },
  {
   "cell_type": "code",
   "execution_count": 48,
   "id": "8a1f513b-fe76-4e2d-8435-ed04ddd0caae",
   "metadata": {},
   "outputs": [],
   "source": [
    "meta_all[['Race']] = meta_all[['Race']].replace(['Caucasian'], ['CAUCASIAN'])"
   ]
  },
  {
   "cell_type": "code",
   "execution_count": 49,
   "id": "81cf4b4a-0d9c-4e38-9b75-0b4df3269bee",
   "metadata": {},
   "outputs": [],
   "source": [
    "meta_all[['Race']] = meta_all[['Race']].replace(['Hispanic/Latino'], ['HISPANIC/LATINO'])"
   ]
  },
  {
   "cell_type": "code",
   "execution_count": 50,
   "id": "ecca0f1b-3734-4ac7-b269-bb9fddb508f1",
   "metadata": {},
   "outputs": [],
   "source": [
    "meta_all[['Race']] = meta_all[['Race']].replace(['Asian/Pacific Islander'], ['ASIAN'])"
   ]
  },
  {
   "cell_type": "code",
   "execution_count": 51,
   "id": "7a1f799a-01be-464b-bbc6-e09693e63778",
   "metadata": {},
   "outputs": [],
   "source": [
    "meta_all[['Race']] = meta_all[['Race']].replace(['OTHER (SPECIFY)'], ['OTHER'])"
   ]
  },
  {
   "cell_type": "code",
   "execution_count": 52,
   "id": "b9cd284a-3c77-4fab-bf89-17ffdc5515e8",
   "metadata": {},
   "outputs": [],
   "source": [
    "meta_all[['Race']] = meta_all[['Race']].replace(['0'], ['OTHER'])"
   ]
  },
  {
   "cell_type": "code",
   "execution_count": 53,
   "id": "a11cb97d-593f-4700-a0cc-61db7b2bd3e9",
   "metadata": {},
   "outputs": [
    {
     "data": {
      "text/plain": [
       "CAUCASIAN                 114\n",
       "AFRICAN AMERICAN/BLACK     64\n",
       "HISPANIC/LATINO            28\n",
       "ASIAN                       2\n",
       "OTHER                       2\n",
       "Name: Race, dtype: int64"
      ]
     },
     "execution_count": 53,
     "metadata": {},
     "output_type": "execute_result"
    }
   ],
   "source": [
    "meta_all['Race'].value_counts()"
   ]
  },
  {
   "cell_type": "markdown",
   "id": "ea3486ce-bde8-4419-b18e-a49742105308",
   "metadata": {},
   "source": [
    "#### Merge meta and peptides"
   ]
  },
  {
   "cell_type": "code",
   "execution_count": 54,
   "id": "19a5cebc-151c-4e84-ac1e-df9c99193f9c",
   "metadata": {},
   "outputs": [],
   "source": [
    "meta_prot=meta_all.merge(prot_all, left_index=True, right_index=True)"
   ]
  },
  {
   "cell_type": "code",
   "execution_count": 55,
   "id": "731b47ae-a8a5-4516-b6b7-cbbdf26a4469",
   "metadata": {},
   "outputs": [
    {
     "data": {
      "text/plain": [
       "202"
      ]
     },
     "execution_count": 55,
     "metadata": {},
     "output_type": "execute_result"
    }
   ],
   "source": [
    "len(meta_prot.index.unique())"
   ]
  },
  {
   "cell_type": "code",
   "execution_count": 56,
   "id": "4b9436b2-a427-47e7-81df-a4169b4846af",
   "metadata": {},
   "outputs": [
    {
     "data": {
      "text/plain": [
       "202"
      ]
     },
     "execution_count": 56,
     "metadata": {},
     "output_type": "execute_result"
    }
   ],
   "source": [
    "len(meta_prot)"
   ]
  },
  {
   "cell_type": "code",
   "execution_count": 57,
   "id": "e7bae504-1170-42e7-9f76-1192b0e8a4ef",
   "metadata": {},
   "outputs": [
    {
     "data": {
      "text/plain": [
       "0    75\n",
       "1    62\n",
       "2    28\n",
       "3    24\n",
       "4    13\n",
       "Name: Group_x, dtype: int64"
      ]
     },
     "execution_count": 57,
     "metadata": {},
     "output_type": "execute_result"
    }
   ],
   "source": [
    "meta_prot.Group_x.value_counts()"
   ]
  },
  {
   "cell_type": "code",
   "execution_count": 58,
   "id": "18ff3d3e-1438-4673-b6ef-9cba147ba8b2",
   "metadata": {},
   "outputs": [
    {
     "data": {
      "text/plain": [
       "0    75\n",
       "1    62\n",
       "2    28\n",
       "3    24\n",
       "4    13\n",
       "Name: Group_y, dtype: int64"
      ]
     },
     "execution_count": 58,
     "metadata": {},
     "output_type": "execute_result"
    }
   ],
   "source": [
    "meta_prot.Group_y.value_counts()"
   ]
  },
  {
   "cell_type": "code",
   "execution_count": 59,
   "id": "68996dec-c7e6-40c8-9954-2b91def8205c",
   "metadata": {},
   "outputs": [],
   "source": [
    "meta_prot.drop(['Group_y'],axis=1,inplace=True)"
   ]
  },
  {
   "cell_type": "code",
   "execution_count": 60,
   "id": "e1328acf-14f7-4c4c-b1b3-8d3855f5627b",
   "metadata": {},
   "outputs": [],
   "source": [
    "meta_prot.rename(columns={'Group_x':'Group'}, inplace=True)"
   ]
  },
  {
   "cell_type": "code",
   "execution_count": 61,
   "id": "148b3086-b2d1-4673-bf89-1e6db61db825",
   "metadata": {},
   "outputs": [],
   "source": [
    "prot_in=meta_prot.iloc[:,5:]"
   ]
  },
  {
   "cell_type": "code",
   "execution_count": 62,
   "id": "c6abee0f-15d9-4dec-88bd-67d54644b115",
   "metadata": {},
   "outputs": [
    {
     "data": {
      "text/plain": [
       "(202, 234)"
      ]
     },
     "execution_count": 62,
     "metadata": {},
     "output_type": "execute_result"
    }
   ],
   "source": [
    "prot_in.shape"
   ]
  },
  {
   "cell_type": "code",
   "execution_count": 63,
   "id": "d3b7a894-00e3-4c96-b1fd-9bdd76cc7118",
   "metadata": {},
   "outputs": [
    {
     "data": {
      "text/plain": [
       "39"
      ]
     },
     "execution_count": 63,
     "metadata": {},
     "output_type": "execute_result"
    }
   ],
   "source": [
    "len(list(prot_in.filter(regex=';')))"
   ]
  },
  {
   "cell_type": "code",
   "execution_count": 64,
   "id": "3ad2a986-bacd-4c27-80eb-b497463e622e",
   "metadata": {},
   "outputs": [],
   "source": [
    "prot_in = prot_in[prot_in.columns.drop(list(prot_in.filter(regex=';')))]"
   ]
  },
  {
   "cell_type": "markdown",
   "id": "7bf92344-9eba-4515-bc29-9b0dff64fcae",
   "metadata": {
    "tags": []
   },
   "source": [
    "### 4. Make Disease vs Control groups"
   ]
  },
  {
   "cell_type": "code",
   "execution_count": 66,
   "id": "092759f2-8984-491e-a9e3-868b6c2e49fd",
   "metadata": {
    "tags": []
   },
   "outputs": [],
   "source": [
    "# disease groups 0,1,4 => 0\n",
    "# control group 2,3 => 1"
   ]
  },
  {
   "cell_type": "code",
   "execution_count": 67,
   "id": "2a73a0d2-e0cf-41ec-bb1a-ca47c9e17c50",
   "metadata": {},
   "outputs": [],
   "source": [
    "prot_2_gr=meta_prot.copy()"
   ]
  },
  {
   "cell_type": "code",
   "execution_count": 68,
   "id": "52a9561a-6e8a-44df-ac5d-c3e262b80507",
   "metadata": {},
   "outputs": [],
   "source": [
    "prot_2_gr[['Group']] = prot_2_gr[['Group']].replace([0], [0])"
   ]
  },
  {
   "cell_type": "code",
   "execution_count": 69,
   "id": "88ef940f-161f-4af4-82be-8ed9d8445eb5",
   "metadata": {},
   "outputs": [],
   "source": [
    "prot_2_gr[['Group']] = prot_2_gr[['Group']].replace([1], [0])"
   ]
  },
  {
   "cell_type": "code",
   "execution_count": 70,
   "id": "9f1cfa7b-8268-42fc-8c88-f03ebd23dfb9",
   "metadata": {},
   "outputs": [],
   "source": [
    "prot_2_gr[['Group']] = prot_2_gr[['Group']].replace([4], [0])"
   ]
  },
  {
   "cell_type": "code",
   "execution_count": 71,
   "id": "8b42ce58-a558-45aa-bd33-3911f3533328",
   "metadata": {},
   "outputs": [],
   "source": [
    "prot_2_gr[['Group']] = prot_2_gr[['Group']].replace([2], [1])"
   ]
  },
  {
   "cell_type": "code",
   "execution_count": 72,
   "id": "b2685ddf-4443-401a-857f-5e3c4058320a",
   "metadata": {},
   "outputs": [],
   "source": [
    "prot_2_gr[['Group']] = prot_2_gr[['Group']].replace([3], [1])"
   ]
  },
  {
   "cell_type": "code",
   "execution_count": 73,
   "id": "fdcf61a1-0e01-4d5f-a174-fb8bf5b052b1",
   "metadata": {},
   "outputs": [
    {
     "data": {
      "text/plain": [
       "0    150\n",
       "1     52\n",
       "Name: Group, dtype: int64"
      ]
     },
     "execution_count": 73,
     "metadata": {},
     "output_type": "execute_result"
    }
   ],
   "source": [
    "prot_2_gr.Group.value_counts()"
   ]
  },
  {
   "cell_type": "markdown",
   "id": "65deda20-9b30-4202-8d8f-69c5fb118b5c",
   "metadata": {
    "tags": []
   },
   "source": [
    "### 5. Log2 transform"
   ]
  },
  {
   "cell_type": "code",
   "execution_count": 74,
   "id": "9874c832-6c0c-4610-975a-91ab248a7fc4",
   "metadata": {},
   "outputs": [],
   "source": [
    "prot_all=prot_in.merge(prot_2_gr.Group, left_index=True, right_index=True)"
   ]
  },
  {
   "cell_type": "code",
   "execution_count": 75,
   "id": "47deb300-feb7-4de5-9db9-302a6a32a537",
   "metadata": {},
   "outputs": [
    {
     "data": {
      "text/plain": [
       "0"
      ]
     },
     "execution_count": 75,
     "metadata": {},
     "output_type": "execute_result"
    }
   ],
   "source": [
    "num = 0\n",
    "for i in prot_in.columns:\n",
    "   num += prot_in[i][prot_in[i]==0].count()\n",
    "num"
   ]
  },
  {
   "cell_type": "code",
   "execution_count": 76,
   "id": "946fb6fc-9b84-4353-ba00-9bf042deb6dc",
   "metadata": {},
   "outputs": [],
   "source": [
    "prot_in_log=np.log2(prot_in.T)"
   ]
  },
  {
   "cell_type": "code",
   "execution_count": 77,
   "id": "11ff154d-347d-4900-b452-97cb63f1989c",
   "metadata": {},
   "outputs": [
    {
     "name": "stderr",
     "output_type": "stream",
     "text": [
      "C:\\Users\\momenzadeha\\AppData\\Local\\Temp\\ipykernel_5680\\2923415287.py:1: FutureWarning: In a future version of pandas all arguments of DataFrame.any and Series.any will be keyword-only.\n",
      "  prot_in_log.index[np.isinf(prot_in_log).any(1)]\n"
     ]
    },
    {
     "data": {
      "text/plain": [
       "Index([], dtype='object')"
      ]
     },
     "execution_count": 77,
     "metadata": {},
     "output_type": "execute_result"
    }
   ],
   "source": [
    "prot_in_log.index[np.isinf(prot_in_log).any(1)]"
   ]
  },
  {
   "cell_type": "code",
   "execution_count": 78,
   "id": "5d0b4b78-f423-4db5-8c20-b029b9062ebf",
   "metadata": {},
   "outputs": [],
   "source": [
    "prot_in_log=prot_in_log.T"
   ]
  },
  {
   "cell_type": "code",
   "execution_count": 79,
   "id": "83b57082-6e14-4bca-a286-8d3e0b57a8de",
   "metadata": {},
   "outputs": [
    {
     "data": {
      "text/plain": [
       "(202, 195)"
      ]
     },
     "execution_count": 79,
     "metadata": {},
     "output_type": "execute_result"
    }
   ],
   "source": [
    "prot_in_log.shape"
   ]
  },
  {
   "cell_type": "code",
   "execution_count": 80,
   "id": "b97fc3c9-7d4c-43c5-86e1-32371c0fb037",
   "metadata": {},
   "outputs": [],
   "source": [
    "prot_all=prot_in_log.merge(prot_2_gr.Group, left_index=True, right_index=True)"
   ]
  },
  {
   "cell_type": "markdown",
   "id": "44bc0d49-d9a4-45f4-bc80-6ebeaa6c16ae",
   "metadata": {
    "tags": []
   },
   "source": [
    "### 6. Merge log transformed data with meta"
   ]
  },
  {
   "cell_type": "code",
   "execution_count": 81,
   "id": "9baad022-b853-498c-a5d0-dddd7dfd8f12",
   "metadata": {},
   "outputs": [],
   "source": [
    "meta_logprot=meta_all.merge(prot_in_log, left_index=True, right_index=True)"
   ]
  },
  {
   "cell_type": "code",
   "execution_count": 82,
   "id": "0d5865b9-614f-4d5a-a4a6-eb434c79e334",
   "metadata": {
    "tags": []
   },
   "outputs": [],
   "source": [
    "meta_logprot_all=meta_logprot.reset_index().merge(batches.reset_index(), \n",
    "                                                how='left', on='index').set_index('index')"
   ]
  },
  {
   "cell_type": "code",
   "execution_count": 84,
   "id": "1f8e31a7-1623-41ab-8582-22fe3e13610d",
   "metadata": {},
   "outputs": [],
   "source": [
    "meta_logprot_b=meta_logprot_all.drop(['Collection Tube','Age','Sex','Race', 'Group'],axis=1)"
   ]
  },
  {
   "cell_type": "code",
   "execution_count": 85,
   "id": "fb9986fa-97fc-4452-85e5-9d0b310ae94d",
   "metadata": {},
   "outputs": [
    {
     "data": {
      "text/plain": [
       "True"
      ]
     },
     "execution_count": 85,
     "metadata": {},
     "output_type": "execute_result"
    }
   ],
   "source": [
    "meta_logprot_b.index.equals(prot_in_log.index)"
   ]
  },
  {
   "cell_type": "code",
   "execution_count": 86,
   "id": "2620c24e-a6bd-4399-a87d-84a3ca86217a",
   "metadata": {},
   "outputs": [
    {
     "data": {
      "text/plain": [
       "True"
      ]
     },
     "execution_count": 86,
     "metadata": {},
     "output_type": "execute_result"
    }
   ],
   "source": [
    "meta_logprot_b.index.equals(meta_logprot.index)"
   ]
  },
  {
   "cell_type": "code",
   "execution_count": 88,
   "id": "a8814ec3-a7f3-432d-8637-a95fe6193ab8",
   "metadata": {},
   "outputs": [],
   "source": [
    "reducer = umap.UMAP(min_dist=1, random_state=0)"
   ]
  },
  {
   "cell_type": "code",
   "execution_count": 89,
   "id": "837f666e-f393-42a8-a774-572baae0f465",
   "metadata": {
    "tags": []
   },
   "outputs": [
    {
     "data": {
      "text/plain": [
       "(202, 2)"
      ]
     },
     "execution_count": 89,
     "metadata": {},
     "output_type": "execute_result"
    }
   ],
   "source": [
    "embedding = reducer.fit_transform(meta_logprot_b.iloc[:,:-1])\n",
    "embedding.shape"
   ]
  },
  {
   "cell_type": "code",
   "execution_count": 90,
   "id": "58d38f2f-c1b2-46e2-b93f-8f6b4dab3bf0",
   "metadata": {},
   "outputs": [],
   "source": [
    "cmap = plt.get_cmap(\"tab20\")\n",
    "blue = cmap(np.array([0]))\n",
    "orange = cmap(np.array([2]))\n",
    "green = cmap(np.array([4]))\n",
    "red = cmap(np.array([6]))\n",
    "purple = cmap(np.array([8]))"
   ]
  },
  {
   "cell_type": "code",
   "execution_count": 91,
   "id": "6e8c1352-91da-41bc-931e-ed309a08e2a0",
   "metadata": {},
   "outputs": [],
   "source": [
    "categories = meta_logprot.Group\n",
    "\n",
    "colormap = np.array([blue, orange, green, red,purple])"
   ]
  },
  {
   "cell_type": "code",
   "execution_count": 92,
   "id": "e55f6b54-cc25-4826-bd40-d0eac1cc5afb",
   "metadata": {},
   "outputs": [
    {
     "data": {
      "image/png": "[encoded data removed]",
      "text/plain": [
       "<Figure size 700x500 with 1 Axes>"
      ]
     },
     "metadata": {},
     "output_type": "display_data"
    }
   ],
   "source": [
    "plt.figure(figsize=(7,5))\n",
    "plt.scatter(embedding[:, 0],embedding[:, 1], s=50, c=colormap[categories])\n",
    "\n",
    "plt.gca().set_aspect('equal', 'datalim')\n",
    "plt.title('Unsupervised UMAP Log Before Combat', fontsize=24)\n",
    "plt.xticks(fontsize=20)\n",
    "plt.yticks(fontsize=20)\n",
    "plt.ylabel('UMAP dim 1', fontsize=30)\n",
    "plt.xlabel('UMAP dim 2', fontsize=30)\n",
    "\n",
    "b_patch = mpatches.Patch(color=blue, label='TYPE B')\n",
    "o_patch = mpatches.Patch(color=orange, label='DTAA')\n",
    "g_patch = mpatches.Patch(color=green, label='Control Healthy')\n",
    "r_patch = mpatches.Patch(color=red, label='Control CAD')\n",
    "p_patch = mpatches.Patch(color=purple, label='BDTAA')\n",
    "\n",
    "\n",
    "plt.legend(handles=[b_patch, o_patch, g_patch, r_patch, p_patch], fontsize=15, loc='center left', \n",
    "           bbox_to_anchor=(1, 0.5))\n",
    "\n",
    "plt.show()\n",
    "#plt.savefig(\"umap_precraw.jpg\", dpi=600,  bbox_inches='tight')"
   ]
  },
  {
   "cell_type": "code",
   "execution_count": 93,
   "id": "33da9588-3528-4b92-89a4-852bc58f246b",
   "metadata": {},
   "outputs": [
    {
     "data": {
      "text/plain": [
       "1    82\n",
       "2    75\n",
       "3    34\n",
       "4    11\n",
       "Name: Batch, dtype: int64"
      ]
     },
     "execution_count": 93,
     "metadata": {},
     "output_type": "execute_result"
    }
   ],
   "source": [
    "meta_logprot_b.iloc[:,-1].value_counts(0)"
   ]
  },
  {
   "cell_type": "code",
   "execution_count": 94,
   "id": "f051ab44-e484-4b27-89d6-a3e66e8a68ee",
   "metadata": {
    "tags": []
   },
   "outputs": [
    {
     "name": "stdout",
     "output_type": "stream",
     "text": [
      "Found 4 batches.\n",
      "Adjusting for 0 covariate(s) or covariate level(s).\n",
      "Standardizing Data across genes.\n",
      "Fitting L/S model and finding priors.\n",
      "Finding parametric adjustments.\n",
      "Adjusting the Data\n"
     ]
    },
    {
     "name": "stderr",
     "output_type": "stream",
     "text": [
      "C:\\Users\\momenzadeha\\AppData\\Roaming\\Python\\Python39\\site-packages\\combat\\pycombat.py:166: VisibleDeprecationWarning: Creating an ndarray from ragged nested sequences (which is a list-or-tuple of lists-or-tuples-or ndarrays with different lengths or shapes) is deprecated. If you meant to do this, you must specify 'dtype=object' when creating the ndarray.\n",
      "  adjust = np.asarray([g_new, d_new])\n"
     ]
    }
   ],
   "source": [
    "prot_data_corrected = pycombat(meta_logprot_b.iloc[:,:-1].T,meta_logprot_b.iloc[:,-1])"
   ]
  },
  {
   "cell_type": "code",
   "execution_count": 95,
   "id": "d7bcb933-a515-4a35-875a-18e08997a2e8",
   "metadata": {},
   "outputs": [
    {
     "data": {
      "text/plain": [
       "(195, 202)"
      ]
     },
     "execution_count": 95,
     "metadata": {},
     "output_type": "execute_result"
    }
   ],
   "source": [
    "meta_logprot_b.iloc[:,:-1].T.shape"
   ]
  },
  {
   "cell_type": "code",
   "execution_count": 96,
   "id": "ac0140bd-d767-4a18-8993-cb3a5a65aa50",
   "metadata": {},
   "outputs": [
    {
     "data": {
      "text/plain": [
       "(202,)"
      ]
     },
     "execution_count": 96,
     "metadata": {},
     "output_type": "execute_result"
    }
   ],
   "source": [
    "meta_logprot_b.iloc[:,-1].shape"
   ]
  },
  {
   "cell_type": "code",
   "execution_count": 97,
   "id": "824b4134-2ca9-4f4c-a590-7e761a746ad8",
   "metadata": {},
   "outputs": [
    {
     "data": {
      "text/plain": [
       "1    82\n",
       "2    75\n",
       "3    34\n",
       "4    11\n",
       "Name: Batch, dtype: int64"
      ]
     },
     "execution_count": 97,
     "metadata": {},
     "output_type": "execute_result"
    }
   ],
   "source": [
    "meta_logprot_b.iloc[:,-1].value_counts()"
   ]
  },
  {
   "cell_type": "code",
   "execution_count": 98,
   "id": "c91e4360-f049-4b21-beb5-ed4ab156e738",
   "metadata": {},
   "outputs": [],
   "source": [
    "#with open(r'/Users/momenzadeha/Documents/aneurysm_study/prot_bcorr.pkl', 'wb') as handle:\n",
    "    #pickle.dump(prot_data_corrected.T, handle, protocol=pickle.HIGHEST_PROTOCOL)"
   ]
  },
  {
   "cell_type": "code",
   "execution_count": 99,
   "id": "204cb864-fee8-4760-882a-f6c83d85ae7a",
   "metadata": {},
   "outputs": [
    {
     "data": {
      "text/plain": [
       "True"
      ]
     },
     "execution_count": 99,
     "metadata": {},
     "output_type": "execute_result"
    }
   ],
   "source": [
    "meta_logprot_b.index.equals(prot_data_corrected.T.index)"
   ]
  },
  {
   "cell_type": "code",
   "execution_count": 100,
   "id": "888a0f1e-8d62-4211-921e-1f08fc0e1f32",
   "metadata": {},
   "outputs": [],
   "source": [
    "reducer = umap.UMAP(min_dist=1, random_state=0)"
   ]
  },
  {
   "cell_type": "code",
   "execution_count": 101,
   "id": "3df3f29f-169c-4711-996f-14b3eb74c861",
   "metadata": {},
   "outputs": [
    {
     "data": {
      "text/plain": [
       "(202, 2)"
      ]
     },
     "execution_count": 101,
     "metadata": {},
     "output_type": "execute_result"
    }
   ],
   "source": [
    "embedding = reducer.fit_transform(prot_data_corrected.T)\n",
    "embedding.shape"
   ]
  },
  {
   "cell_type": "code",
   "execution_count": 102,
   "id": "eb6f8f38-5e1c-46ca-acec-7d0699bfb484",
   "metadata": {},
   "outputs": [],
   "source": [
    "cmap = plt.get_cmap(\"tab20c\")\n",
    "blue = cmap(np.array([0]))\n",
    "orange = cmap(np.array([4]))"
   ]
  },
  {
   "cell_type": "code",
   "execution_count": 103,
   "id": "a7c0a3ae-e4d8-431c-81d6-04259c85b049",
   "metadata": {},
   "outputs": [],
   "source": [
    "categories = prot_2_gr.Group\n",
    "\n",
    "colormap = np.array([blue, orange])"
   ]
  },
  {
   "cell_type": "code",
   "execution_count": 104,
   "id": "ee091166-bcb5-46b4-a6bf-dffff9c3bac3",
   "metadata": {},
   "outputs": [
    {
     "data": {
      "image/png": "[encoded data removed]",
      "text/plain": [
       "<Figure size 700x500 with 1 Axes>"
      ]
     },
     "metadata": {},
     "output_type": "display_data"
    }
   ],
   "source": [
    "plt.figure(figsize=(7,5))\n",
    "plt.scatter(embedding[:, 0],embedding[:, 1], s=50, c=colormap[categories])\n",
    "\n",
    "#plt.gca().set_aspect('equal', 'datalim')\n",
    "#plt.title('Unsupervised UMAP Log+Combat Dx vs C', fontsize=24)\n",
    "plt.xticks(fontsize=30)\n",
    "plt.yticks(fontsize=30)\n",
    "plt.ylabel('UMAP dim 1', fontsize=30)\n",
    "plt.xlabel('UMAP dim 2', fontsize=30)\n",
    "plt.xlim(-3,15)\n",
    "\n",
    "b_patch = mpatches.Patch(color=blue, label='Disease')\n",
    "o_patch = mpatches.Patch(color=orange, label='Control')\n",
    "\n",
    "plt.legend(handles=[b_patch, o_patch], fontsize=18, loc='right', \n",
    "           bbox_to_anchor=(1.02, 0.87))\n",
    "\n",
    "#plt.savefig('logUMAPProt_bcorr.svg',bbox_inches='tight')\n",
    "plt.show()"
   ]
  },
  {
   "cell_type": "markdown",
   "id": "3178c027-2039-4b99-9b5b-361c767ac9af",
   "metadata": {
    "tags": []
   },
   "source": [
    "### 7. PLS-DA"
   ]
  },
  {
   "cell_type": "code",
   "execution_count": 105,
   "id": "221374f3-9ca2-4d30-9ef9-591b4a8b8800",
   "metadata": {},
   "outputs": [],
   "source": [
    "prot_y = np.array(prot_2_gr.Group, dtype=int)"
   ]
  },
  {
   "cell_type": "code",
   "execution_count": 107,
   "id": "f5f3f341-bb19-40a8-bfa6-e28c79e5455e",
   "metadata": {},
   "outputs": [
    {
     "data": {
      "text/plain": [
       "(202, 2)"
      ]
     },
     "execution_count": 107,
     "metadata": {},
     "output_type": "execute_result"
    }
   ],
   "source": [
    "plsr = PLSRegression(n_components=2)\n",
    "plsr.fit(prot_data_corrected.T, prot_y)\n",
    "\n",
    "scores = pd.DataFrame(plsr.x_scores_)\n",
    "scores.shape"
   ]
  },
  {
   "cell_type": "code",
   "execution_count": 108,
   "id": "56238352-19bd-490c-858a-dfed7dc94891",
   "metadata": {},
   "outputs": [
    {
     "data": {
      "text/plain": [
       "<Figure size 700x500 with 0 Axes>"
      ]
     },
     "metadata": {},
     "output_type": "display_data"
    },
    {
     "data": {
      "image/png": "[encoded data removed]",
      "text/plain": [
       "<Figure size 700x500 with 1 Axes>"
      ]
     },
     "metadata": {},
     "output_type": "display_data"
    }
   ],
   "source": [
    "#LV=latent Variable\n",
    "plt.figure(figsize=(7,5))\n",
    "scores.index=prot_data_corrected.columns\n",
    "\n",
    "ax = scores.plot(x=0, y=1, kind='scatter', s=50, c=colormap[categories])\n",
    "ax.set_xlabel('PLS-DA  LV 1',fontsize=30)\n",
    "ax.set_ylabel('PLS-DA  LV 2',fontsize=30)\n",
    "\n",
    "plt.gca().set_aspect('equal', 'datalim')\n",
    "#plt.title('PLS-DA (Log+Combat Dx vs C)', fontsize=24)\n",
    "plt.xticks(fontsize=28)\n",
    "plt.yticks(fontsize=30)\n",
    "\n",
    "b_patch = mpatches.Patch(color=blue, label='Disease')\n",
    "o_patch = mpatches.Patch(color=orange, label='Control')\n",
    "\n",
    "plt.legend(handles=[b_patch, o_patch], fontsize=18, loc='right', \n",
    "           bbox_to_anchor=(1.02, 0.87))\n",
    "#plt.savefig('PLSDAProt_bcorr.svg', dpi=600,bbox_inches='tight')\n",
    "plt.show()"
   ]
  },
  {
   "cell_type": "markdown",
   "id": "ce32bb5a-fe26-4886-86e1-2548f820649c",
   "metadata": {
    "tags": []
   },
   "source": [
    "### 8. T-test/BH disease vs control - find significant proteins"
   ]
  },
  {
   "cell_type": "code",
   "execution_count": 110,
   "id": "3d52fa38-6544-4011-80fd-44c13a6e7c50",
   "metadata": {},
   "outputs": [],
   "source": [
    "comb_prot_all=prot_data_corrected.T.merge(prot_2_gr.Group, left_index=True, right_index=True)"
   ]
  },
  {
   "cell_type": "code",
   "execution_count": 111,
   "id": "15b16d54-40fe-4ef9-8a60-5044521fb42c",
   "metadata": {},
   "outputs": [
    {
     "data": {
      "text/plain": [
       "(39390, 3)"
      ]
     },
     "execution_count": 111,
     "metadata": {},
     "output_type": "execute_result"
    }
   ],
   "source": [
    "prot_all_melt = pd.melt(comb_prot_all, id_vars=['Group'], value_vars=prot_data_corrected.T.columns.tolist())\n",
    "prot_all_melt.shape"
   ]
  },
  {
   "cell_type": "code",
   "execution_count": 112,
   "id": "b4dd048c-211d-48f9-92db-54ca0869c735",
   "metadata": {},
   "outputs": [],
   "source": [
    "prot_all_melt=prot_all_melt.rename(columns={\"variable\": \"Proteins\"})"
   ]
  },
  {
   "cell_type": "code",
   "execution_count": 113,
   "id": "bfd5eb62-ae8b-429a-9e6a-5f54b826dab7",
   "metadata": {},
   "outputs": [],
   "source": [
    "prot_all_melt['Group'] = prot_all_melt['Group'].astype('int')"
   ]
  },
  {
   "cell_type": "code",
   "execution_count": 114,
   "id": "7c2f4e14-695d-4677-9d2c-79c56e85cbc8",
   "metadata": {
    "tags": []
   },
   "outputs": [
    {
     "name": "stdout",
     "output_type": "stream",
     "text": [
      "100\n"
     ]
    }
   ],
   "source": [
    "pvalues=[]\n",
    "proteins=[]\n",
    "i=0\n",
    "for x in prot_all_melt['Proteins'].unique():\n",
    "    tempdf = prot_all_melt[prot_all_melt.isin([x]).any(axis=1)]\n",
    "    coh0=[]\n",
    "    coh1=[]\n",
    "    coh0.append(tempdf[(tempdf.Group==0)]['value'].tolist())\n",
    "    coh1.append(tempdf[(tempdf.Group==1)]['value'].tolist())\n",
    "    #print('cohort  0:', coh0)\n",
    "    #print('++++++++')\n",
    "    ab = itertools.chain(coh0, coh1)\n",
    "    data=list(ab)\n",
    "    t_val, p_val = stats.ttest_ind(*data)\n",
    "    pvalues.append(p_val)\n",
    "    proteins.append(x)\n",
    "    #print('p_value:', p_val)\n",
    "    #print('++++++++')\n",
    "    i+=1\n",
    "    if i % 100==0: \n",
    "        print(i)"
   ]
  },
  {
   "cell_type": "markdown",
   "id": "1d55938f-3278-46d3-810a-fe43c75b2b56",
   "metadata": {
    "tags": []
   },
   "source": [
    "#### Benjamini and Hochberg FDR: group 0 vs 1"
   ]
  },
  {
   "cell_type": "code",
   "execution_count": 115,
   "id": "2c4896dc-5ec1-4fa6-98d9-1283b4029ec3",
   "metadata": {},
   "outputs": [],
   "source": [
    "y=multipletests(pvals=pvalues, method=\"fdr_bh\")"
   ]
  },
  {
   "cell_type": "code",
   "execution_count": 116,
   "id": "bd568874-b69c-427c-9cef-49390f1dbdcf",
   "metadata": {
    "tags": []
   },
   "outputs": [
    {
     "data": {
      "text/plain": [
       "0.32840922372963866"
      ]
     },
     "execution_count": 116,
     "metadata": {},
     "output_type": "execute_result"
    }
   ],
   "source": [
    "y[1][0]"
   ]
  },
  {
   "cell_type": "code",
   "execution_count": 117,
   "id": "08ef3082-02e1-4b93-93ac-26423a6636d2",
   "metadata": {},
   "outputs": [
    {
     "data": {
      "text/plain": [
       "195"
      ]
     },
     "execution_count": 117,
     "metadata": {},
     "output_type": "execute_result"
    }
   ],
   "source": [
    "len(y[1])"
   ]
  },
  {
   "cell_type": "code",
   "execution_count": 118,
   "id": "e011ddcc-ebf1-4018-afbe-34c33dcd49b3",
   "metadata": {},
   "outputs": [
    {
     "name": "stdout",
     "output_type": "stream",
     "text": [
      "99\n"
     ]
    }
   ],
   "source": [
    "#find how many pvalues are < 0.01\n",
    "print(len(y[1][np.where(y[1]<0.01)])) "
   ]
  },
  {
   "cell_type": "code",
   "execution_count": 119,
   "id": "459681a5-8174-4016-9340-bb77ea14fd7e",
   "metadata": {
    "tags": []
   },
   "outputs": [],
   "source": [
    "T=np.where(y[1] <0.01)"
   ]
  },
  {
   "cell_type": "code",
   "execution_count": 120,
   "id": "83b45e40-1a56-4e89-845d-1dd70befd2af",
   "metadata": {
    "tags": []
   },
   "outputs": [
    {
     "data": {
      "text/plain": [
       "(99,)"
      ]
     },
     "execution_count": 120,
     "metadata": {},
     "output_type": "execute_result"
    }
   ],
   "source": [
    "prot_all_melt['Proteins'].unique()[T].shape"
   ]
  },
  {
   "cell_type": "code",
   "execution_count": 121,
   "id": "e1867de9-b1e8-48f7-a56b-71cd227a4ed2",
   "metadata": {
    "tags": []
   },
   "outputs": [],
   "source": [
    "comb_sig_prot=comb_prot_all[prot_all_melt['Proteins'].unique()[T]]"
   ]
  },
  {
   "cell_type": "code",
   "execution_count": 122,
   "id": "d542838e-d31e-42c8-b0d4-611b272c07ee",
   "metadata": {},
   "outputs": [
    {
     "data": {
      "text/plain": [
       "(202, 99)"
      ]
     },
     "execution_count": 122,
     "metadata": {},
     "output_type": "execute_result"
    }
   ],
   "source": [
    "comb_sig_prot.shape"
   ]
  },
  {
   "cell_type": "code",
   "execution_count": 123,
   "id": "c914a451-65db-47f0-be89-f494fb7ac952",
   "metadata": {},
   "outputs": [],
   "source": [
    "#with open(r'/Users/momenzadeha/Documents/aneurysm_study/sigprot_bcorr.pkl', 'wb') as handle:\n",
    "    #pickle.dump(comb_sig_prot, handle, protocol=pickle.HIGHEST_PROTOCOL)"
   ]
  },
  {
   "cell_type": "markdown",
   "id": "1ded326b-faa4-4479-96f1-4ac5d25672cb",
   "metadata": {
    "tags": []
   },
   "source": [
    "### 9. Volcano Plot"
   ]
  },
  {
   "cell_type": "code",
   "execution_count": 144,
   "id": "4977893f-4200-4533-92d4-590f9581b71a",
   "metadata": {},
   "outputs": [],
   "source": [
    "# disease groups 0,1,4 => 0\n",
    "# control group 2,3 => 1"
   ]
  },
  {
   "cell_type": "code",
   "execution_count": 161,
   "id": "865a61a3-f421-4554-8a12-901ae895a8a7",
   "metadata": {},
   "outputs": [],
   "source": [
    "comb_prot_all=prot_data_corrected.T.merge(prot_2_gr.Group, left_index=True, right_index=True)"
   ]
  },
  {
   "cell_type": "code",
   "execution_count": 162,
   "id": "810abf53-bea9-4831-80e6-cee05924e3ae",
   "metadata": {},
   "outputs": [],
   "source": [
    "antilog_corr_data=2**(prot_data_corrected.iloc[:,:-1])"
   ]
  },
  {
   "cell_type": "code",
   "execution_count": 163,
   "id": "5ff5f68d-c075-41e0-8e04-f459609829ff",
   "metadata": {},
   "outputs": [],
   "source": [
    "comb_prot_all_anti=antilog_corr_data.T.merge(prot_2_gr.Group, left_index=True, right_index=True)"
   ]
  },
  {
   "cell_type": "code",
   "execution_count": 164,
   "id": "ef7432b3-cb20-4e9c-bfc9-22ff7840f5f3",
   "metadata": {},
   "outputs": [],
   "source": [
    "anticomb_prot_zero=comb_prot_all_anti.loc[comb_prot_all_anti['Group'] == 0]"
   ]
  },
  {
   "cell_type": "code",
   "execution_count": 165,
   "id": "4b3ab503-b96d-41ce-979e-54c1d26b92bd",
   "metadata": {},
   "outputs": [],
   "source": [
    "anticomb_prot_one=comb_prot_all_anti.loc[comb_prot_all_anti['Group'] == 1]"
   ]
  },
  {
   "cell_type": "code",
   "execution_count": 166,
   "id": "397cd541-2d08-4141-aaae-93f368cf4c78",
   "metadata": {},
   "outputs": [],
   "source": [
    "anticomb_prot_zero=anticomb_prot_zero.drop(['Group'],axis=1)"
   ]
  },
  {
   "cell_type": "code",
   "execution_count": 167,
   "id": "44571dfc-b457-4eca-9546-a7d574dd27f5",
   "metadata": {
    "tags": []
   },
   "outputs": [],
   "source": [
    "anticomb_prot_one=anticomb_prot_one.drop(['Group'],axis=1)"
   ]
  },
  {
   "cell_type": "code",
   "execution_count": 168,
   "id": "f12c486c-593f-4401-ac11-a0f877b3ed67",
   "metadata": {
    "tags": []
   },
   "outputs": [],
   "source": [
    "anticombprot_inT=antilog_corr_data.reset_index()"
   ]
  },
  {
   "cell_type": "code",
   "execution_count": 169,
   "id": "a9fe24cb-5853-4178-85ed-20fa870e7665",
   "metadata": {},
   "outputs": [],
   "source": [
    "anticombprot_inT['mean0'] = anticomb_prot_zero.mean().tolist()"
   ]
  },
  {
   "cell_type": "code",
   "execution_count": 170,
   "id": "ee03035b-94ff-40ae-8aed-777d8438e86b",
   "metadata": {},
   "outputs": [],
   "source": [
    "anticombprot_inT['mean1'] = anticomb_prot_one.mean().tolist()"
   ]
  },
  {
   "cell_type": "code",
   "execution_count": 171,
   "id": "acf24e83-a242-4b13-91d0-12411f067bbf",
   "metadata": {},
   "outputs": [],
   "source": [
    "anticomb_vol=anticombprot_inT[['index','mean0','mean1']]"
   ]
  },
  {
   "cell_type": "code",
   "execution_count": 172,
   "id": "f8ac0371-a16d-4ebf-b136-bdf2725ea4fb",
   "metadata": {},
   "outputs": [
    {
     "name": "stderr",
     "output_type": "stream",
     "text": [
      "C:\\Users\\momenzadeha\\AppData\\Local\\Temp\\ipykernel_5680\\3324569307.py:1: SettingWithCopyWarning: \n",
      "A value is trying to be set on a copy of a slice from a DataFrame.\n",
      "Try using .loc[row_indexer,col_indexer] = value instead\n",
      "\n",
      "See the caveats in the documentation: https://pandas.pydata.org/pandas-docs/stable/user_guide/indexing.html#returning-a-view-versus-a-copy\n",
      "  anticomb_vol['meand_diff'] = anticomb_vol['mean0'] - anticomb_vol['mean1']\n"
     ]
    }
   ],
   "source": [
    "anticomb_vol['meand_diff'] = anticomb_vol['mean0'] - anticomb_vol['mean1']"
   ]
  },
  {
   "cell_type": "code",
   "execution_count": 173,
   "id": "6b46e16c-ecab-47eb-9e49-696942463319",
   "metadata": {},
   "outputs": [
    {
     "name": "stderr",
     "output_type": "stream",
     "text": [
      "C:\\Users\\momenzadeha\\AppData\\Local\\Temp\\ipykernel_5680\\2772738539.py:1: SettingWithCopyWarning: \n",
      "A value is trying to be set on a copy of a slice from a DataFrame.\n",
      "Try using .loc[row_indexer,col_indexer] = value instead\n",
      "\n",
      "See the caveats in the documentation: https://pandas.pydata.org/pandas-docs/stable/user_guide/indexing.html#returning-a-view-versus-a-copy\n",
      "  anticomb_vol['logFC'] = np.log2(anticomb_vol['mean0']) - np.log2(anticomb_vol['mean1'])\n"
     ]
    }
   ],
   "source": [
    "anticomb_vol['logFC'] = np.log2(anticomb_vol['mean0']) - np.log2(anticomb_vol['mean1'])"
   ]
  },
  {
   "cell_type": "code",
   "execution_count": 174,
   "id": "eb807833-5abc-442f-b6c0-e12356042a00",
   "metadata": {},
   "outputs": [
    {
     "name": "stderr",
     "output_type": "stream",
     "text": [
      "C:\\Users\\momenzadeha\\AppData\\Local\\Temp\\ipykernel_5680\\3020715737.py:1: SettingWithCopyWarning: \n",
      "A value is trying to be set on a copy of a slice from a DataFrame.\n",
      "Try using .loc[row_indexer,col_indexer] = value instead\n",
      "\n",
      "See the caveats in the documentation: https://pandas.pydata.org/pandas-docs/stable/user_guide/indexing.html#returning-a-view-versus-a-copy\n",
      "  anticomb_vol['neg_log_pval']=np.log10(y[1]) * (-1)\n"
     ]
    }
   ],
   "source": [
    "anticomb_vol['neg_log_pval']=np.log10(y[1]) * (-1)"
   ]
  },
  {
   "cell_type": "code",
   "execution_count": 175,
   "id": "7314aceb-52b9-4890-a46a-1ac49de74b1e",
   "metadata": {},
   "outputs": [
    {
     "name": "stderr",
     "output_type": "stream",
     "text": [
      "C:\\Users\\momenzadeha\\AppData\\Local\\Temp\\ipykernel_5680\\3485800364.py:1: SettingWithCopyWarning: \n",
      "A value is trying to be set on a copy of a slice from a DataFrame.\n",
      "Try using .loc[row_indexer,col_indexer] = value instead\n",
      "\n",
      "See the caveats in the documentation: https://pandas.pydata.org/pandas-docs/stable/user_guide/indexing.html#returning-a-view-versus-a-copy\n",
      "  anticomb_vol['BHpval']=y[1]\n"
     ]
    }
   ],
   "source": [
    "anticomb_vol['BHpval']=y[1]"
   ]
  },
  {
   "cell_type": "code",
   "execution_count": 176,
   "id": "f600528a-2d93-449d-9955-cb039c3642ce",
   "metadata": {},
   "outputs": [
    {
     "data": {
      "text/plain": [
       "Index(['index', 'mean0', 'mean1', 'meand_diff', 'logFC', 'neg_log_pval',\n",
       "       'BHpval'],\n",
       "      dtype='object', name='index')"
      ]
     },
     "execution_count": 176,
     "metadata": {},
     "output_type": "execute_result"
    }
   ],
   "source": [
    "anticomb_vol.columns"
   ]
  },
  {
   "cell_type": "code",
   "execution_count": 178,
   "id": "05ecbe5f-f114-416f-b682-edf4c8049d2f",
   "metadata": {},
   "outputs": [
    {
     "data": {
      "text/plain": [
       "Text(0.5, 0, 'Log2FC')"
      ]
     },
     "execution_count": 178,
     "metadata": {},
     "output_type": "execute_result"
    },
    {
     "data": {
      "image/png": "[encoded data removed]",
      "text/plain": [
       "<Figure size 700x500 with 1 Axes>"
      ]
     },
     "metadata": {},
     "output_type": "display_data"
    }
   ],
   "source": [
    "plt.figure(figsize=(7,5))\n",
    "plt.scatter(x=anticomb_vol['logFC'], y=anticomb_vol['neg_log_pval'], c='black')\n",
    "\n",
    "plt.axhline(y=np.log10(0.01) * (-1), linestyle='--',c='grey')\n",
    "plt.axvline(x=-1, linestyle='--', c='grey')\n",
    "plt.axvline(x=1, linestyle='--', c='grey')\n",
    "plt.xticks(fontsize=20)\n",
    "plt.yticks(fontsize=20)\n",
    "plt.xlim(-4,4)\n",
    "plt.ylim(-1,30)\n",
    "plt.ylabel(\"-Log10(adj pval)\", fontsize=25)\n",
    "plt.xlabel(\"Log2FC\", fontsize=25)\n",
    "#plt.savefig('VolProt_bcorr.svg', bbox_inches='tight')"
   ]
  },
  {
   "cell_type": "code",
   "execution_count": 169,
   "id": "db7f781f-399d-4fa4-b5cf-2b9a67c77a33",
   "metadata": {},
   "outputs": [],
   "source": [
    "#with open(r'/Users/momenzadeha/Documents/aneurysm_study/comb_vol.pkl', 'wb') as handle:\n",
    "    #pickle.dump(anticomb_vol, handle, protocol=pickle.HIGHEST_PROTOCOL)"
   ]
  }
 ],
 "metadata": {
  "kernelspec": {
   "display_name": "base",
   "language": "python",
   "name": "base"
  },
  "language_info": {
   "codemirror_mode": {
    "name": "ipython",
    "version": 3
   },
   "file_extension": ".py",
   "mimetype": "text/x-python",
   "name": "python",
   "nbconvert_exporter": "python",
   "pygments_lexer": "ipython3",
   "version": "3.9.12"
  }
 },
 "nbformat": 4,
 "nbformat_minor": 5
}
